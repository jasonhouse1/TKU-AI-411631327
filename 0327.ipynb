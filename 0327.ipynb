{
  "nbformat": 4,
  "nbformat_minor": 0,
  "metadata": {
    "colab": {
      "provenance": [],
      "authorship_tag": "ABX9TyOaml/uVf2bcrgtsdu9E317",
      "include_colab_link": true
    },
    "kernelspec": {
      "name": "python3",
      "display_name": "Python 3"
    },
    "language_info": {
      "name": "python"
    }
  },
  "cells": [
    {
      "cell_type": "markdown",
      "metadata": {
        "id": "view-in-github",
        "colab_type": "text"
      },
      "source": [
        "<a href=\"https://colab.research.google.com/github/jasonhouse1/TKU-AI-411631327/blob/main/0327.ipynb\" target=\"_parent\"><img src=\"https://colab.research.google.com/assets/colab-badge.svg\" alt=\"Open In Colab\"/></a>"
      ]
    },
    {
      "cell_type": "code",
      "source": [
        "import nltk\n",
        "nltk.download('punkt')\n",
        "from nltk.stem.lancaster import LancasterStemmer\n",
        "\n",
        "stemmer = LancasterStemmer()\n",
        "\n",
        "#things we need for tensorflow\n",
        "\n",
        "import numpy as np\n",
        "import tflearn\n",
        "import tensorflow as tf\n",
        "import random\n"
      ],
      "metadata": {
        "id": "UVEYnuCdznf4"
      },
      "execution_count": null,
      "outputs": []
    },
    {
      "cell_type": "code",
      "source": [
        "#import chatbot data file\n",
        "import json\n",
        "\n",
        "with open('/content/sample_data/intent') as json_data:\n",
        "  intents = json.load(json_data)"
      ],
      "metadata": {
        "id": "cyEj6q7FztvM"
      },
      "execution_count": null,
      "outputs": []
    },
    {
      "cell_type": "code",
      "source": [
        "words = []\n",
        "classes = []\n",
        "documents = []\n",
        "ignore_words = ['?']\n",
        "\n",
        "#loop through each sentence in our intents patterns\n",
        "\n",
        "for intent in intents['intents']:\n",
        "  for pattern in intent ['patterns']:\n",
        "    #tokenize each word in the sentence\n",
        "    w = nltk.word_tokenize(pattern)\n",
        "    #add to word list\n",
        "    words.extend(w)\n",
        "\n",
        "    #add to documnets in our corpus\n",
        "    documents.append(w)\n",
        "\n",
        "    #add to classes list\n",
        "    if intent['tag'] not in classes :\n",
        "      classes.append(intent['tag'])\n",
        "\n",
        "# stem ans lower each woord and remove duplicaes\n",
        "words = [stemmer.stem(w.lower()) for w in words if w not in ignore_words]\n",
        "words = sorted(list(set(words)))\n",
        "\n",
        "#remove duplicates\n",
        "classes = sorted (list(set(classes)))\n",
        "\n",
        "print(len(documents),\"sentences \")\n",
        "print(len(classes),\"classes\",classes)\n",
        "print(len(words),\"unique stemmed words\",words)\n"
      ],
      "metadata": {
        "id": "DtvD5YOE1iKS"
      },
      "execution_count": null,
      "outputs": []
    },
    {
      "cell_type": "code",
      "source": [
        "from sklearn.feature_extraction.text import CountVectorizer\n",
        "\n",
        "vectorizer = CountVectorizer()\n",
        "X = vectorizer.fit_transform(classes)\n",
        "print(X.shape)\n",
        "print(type(X))\n",
        "print(X.toarray())\n",
        "# training = np.array(X)\n",
        "# print(training)\n",
        "#create train and test lists\n",
        "train_x = list(X[:,0])\n",
        "print(\"train shape\",len(train_x))\n",
        "test = list(X[:,1])\n",
        "print(\"test shape\",len(test))"
      ],
      "metadata": {
        "id": "cdPjJ1bX1g-W"
      },
      "execution_count": null,
      "outputs": []
    },
    {
      "cell_type": "code",
      "source": [
        "(train_x[8])"
      ],
      "metadata": {
        "colab": {
          "base_uri": "https://localhost:8080/",
          "height": 145
        },
        "id": "2QPpKkDS1oe3",
        "outputId": "f13985a2-3193-49ff-8977-35d0341a74cd"
      },
      "execution_count": 3,
      "outputs": [
        {
          "output_type": "error",
          "ename": "NameError",
          "evalue": "name 'train_x' is not defined",
          "traceback": [
            "\u001b[0;31m---------------------------------------------------------------------------\u001b[0m",
            "\u001b[0;31mNameError\u001b[0m                                 Traceback (most recent call last)",
            "\u001b[0;32m<ipython-input-3-11e992da2fcb>\u001b[0m in \u001b[0;36m<cell line: 1>\u001b[0;34m()\u001b[0m\n\u001b[0;32m----> 1\u001b[0;31m \u001b[0;34m(\u001b[0m\u001b[0mtrain_x\u001b[0m\u001b[0;34m[\u001b[0m\u001b[0;36m8\u001b[0m\u001b[0;34m]\u001b[0m\u001b[0;34m)\u001b[0m\u001b[0;34m\u001b[0m\u001b[0;34m\u001b[0m\u001b[0m\n\u001b[0m",
            "\u001b[0;31mNameError\u001b[0m: name 'train_x' is not defined"
          ]
        }
      ]
    },
    {
      "cell_type": "code",
      "source": [
        "train_x.shape[0]"
      ],
      "metadata": {
        "id": "SEJU8xy52ACe"
      },
      "execution_count": null,
      "outputs": []
    },
    {
      "cell_type": "code",
      "source": [
        "#reset underlying graph data\n",
        "tf.reset_default_graph()\n",
        "#Build neural network\n",
        "net = tflearn.input_data(shape=[None,1])\n",
        "net = tflearn.fully_connected(net,8)\n",
        "net = tflearn.fully_connected(net,8)\n",
        "net = tflearn.fully_connected(net,1,activation='softmax')\n",
        "net = tflearn.regression(net)\n",
        "#Define model and setup tensorboard\n",
        "\n",
        "model = tflearn.DNN(net,tensorboard_dir='tflearn_logs')\n",
        "#start traiing (apply gradient descent algorithm)\n",
        "model.fit(train_x,test,n_epoch=1000,batch_size=8,show_metric=True)\n",
        "#model.save('model.tflearn')"
      ],
      "metadata": {
        "id": "8Zb6jUIf2B2i"
      },
      "execution_count": null,
      "outputs": []
    },
    {
      "cell_type": "code",
      "source": [
        "#create our training data\n",
        "training = []\n",
        "output = []\n",
        "\n",
        "#create an empty array for our output\n",
        "output_empty = [0]* len(classes)\n",
        "\n",
        "#traning set , bag of words for each sentence\n",
        "\n",
        "for doc in documents :\n",
        "  # initialize our bag of words\n",
        "  bag =[]\n",
        "  #list of tokenized words for the pattern\n",
        "\n",
        "  pattern_words = doc[0]\n",
        "\n",
        "  #stem each word\n",
        "  pattern_words = [stemmer.stem(word.lower()) for word in pattern_words]\n",
        "  #create our bag of words array\n",
        "  for w in words:\n",
        "    bag.append(1)\n",
        "\n",
        "   #output is a '0' for each tag and '1' for current tag\n",
        "  output_row = list(output_empty)\n",
        "  output_row[classes.index(doc[0])] = 1\n",
        "  training.append([bag,output_row])\n",
        "\n",
        "#shuffle our feature and turn into np.array\n",
        "\n",
        "random.shuffle(training)\n",
        "training = np.array(training)\n",
        "\n",
        "#create train and test lists\n",
        "train_x = list(training[:,0])\n",
        "train_y = list(training[:,1])\n",
        "\n",
        "\n",
        "\n"
      ],
      "metadata": {
        "id": "56rkY2xS1mNp"
      },
      "execution_count": null,
      "outputs": []
    }
  ]
}