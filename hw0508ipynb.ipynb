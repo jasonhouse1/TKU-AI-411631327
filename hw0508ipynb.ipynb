{
  "nbformat": 4,
  "nbformat_minor": 0,
  "metadata": {
    "colab": {
      "provenance": [],
      "authorship_tag": "ABX9TyN1SPTEcUuSdq4iJQivxDNV",
      "include_colab_link": true
    },
    "kernelspec": {
      "name": "python3",
      "display_name": "Python 3"
    },
    "language_info": {
      "name": "python"
    }
  },
  "cells": [
    {
      "cell_type": "markdown",
      "metadata": {
        "id": "view-in-github",
        "colab_type": "text"
      },
      "source": [
        "<a href=\"https://colab.research.google.com/github/jasonhouse1/TKU-AI-411631327/blob/main/hw0508ipynb.ipynb\" target=\"_parent\"><img src=\"https://colab.research.google.com/assets/colab-badge.svg\" alt=\"Open In Colab\"/></a>"
      ]
    },
    {
      "cell_type": "code",
      "execution_count": null,
      "metadata": {
        "id": "QtsXPm3ykrMC",
        "colab": {
          "base_uri": "https://localhost:8080/"
        },
        "outputId": "8b4656dc-d864-40d0-84e0-dca5aa2fe71e"
      },
      "outputs": [
        {
          "output_type": "stream",
          "name": "stdout",
          "text": [
            "請輸入您的體溫: 36\n",
            "體溫正常!\n"
          ]
        }
      ],
      "source": [
        "# 體溫判斷程式\n",
        "def check_temperature(temp):\n",
        "    if temp >= 37.5:\n",
        "        return \"體溫過高!\"\n",
        "    elif 37 <= temp < 37.5:\n",
        "        return \"體溫略高!\"\n",
        "    elif 34 <= temp < 37:\n",
        "        return \"體溫正常!\"\n",
        "    else:\n",
        "        return \"體溫異常，請重新量測!\"\n",
        "\n",
        "# 使用者輸入體溫\n",
        "user_temp = float(input(\"請輸入您的體溫: \"))\n",
        "result = check_temperature(user_temp)\n",
        "print(result)\n"
      ]
    },
    {
      "cell_type": "code",
      "source": [
        "score = int(input(\"請輸入你的成績：\"))\n",
        "\n",
        "if score >= 90:\n",
        "    print('A')\n",
        "elif 80 <= score < 90:\n",
        "    print('B')\n",
        "elif 70 <= score < 80:\n",
        "    print('C')\n",
        "elif 60 <= score < 70:\n",
        "    print('D')\n",
        "else:\n",
        "    print('E')"
      ],
      "metadata": {
        "colab": {
          "base_uri": "https://localhost:8080/"
        },
        "id": "ak4JcATIMD-q",
        "outputId": "c96f64ab-b1f9-4edd-ed9d-81ea86ac4b92"
      },
      "execution_count": null,
      "outputs": [
        {
          "output_type": "stream",
          "name": "stdout",
          "text": [
            "請輸入你的成績：60\n",
            "D\n"
          ]
        }
      ]
    },
    {
      "cell_type": "code",
      "source": [
        "month = int(input(\"請輸入月份：\"))\n",
        "\n",
        "if 3 <= month <= 5:\n",
        "    print(f'{month}月是春天!')\n",
        "elif 6 <= month <= 8:\n",
        "    print(f'{month}月是夏天!')\n",
        "elif 9 <= month <= 11:\n",
        "    print(f'{month}月是秋天!')\n",
        "elif month == 12 or 1 <= month <= 2:\n",
        "    print(f'{month}月是冬天!')\n",
        "else:\n",
        "    print('月份不在範圍內')"
      ],
      "metadata": {
        "colab": {
          "base_uri": "https://localhost:8080/"
        },
        "id": "gKRuGgevN1PT",
        "outputId": "58b7ec54-0f9e-4e89-e68b-9adb64c094d0"
      },
      "execution_count": null,
      "outputs": [
        {
          "output_type": "stream",
          "name": "stdout",
          "text": [
            "請輸入月份：6\n",
            "6月是夏天!\n"
          ]
        }
      ]
    }
  ]
}