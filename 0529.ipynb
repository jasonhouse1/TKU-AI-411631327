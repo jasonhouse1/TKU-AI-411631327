{
  "nbformat": 4,
  "nbformat_minor": 0,
  "metadata": {
    "colab": {
      "provenance": [],
      "authorship_tag": "ABX9TyMQlXMpLjA/muKj3Lp8aQW6",
      "include_colab_link": true
    },
    "kernelspec": {
      "name": "python3",
      "display_name": "Python 3"
    },
    "language_info": {
      "name": "python"
    }
  },
  "cells": [
    {
      "cell_type": "markdown",
      "metadata": {
        "id": "view-in-github",
        "colab_type": "text"
      },
      "source": [
        "<a href=\"https://colab.research.google.com/github/jasonhouse1/TKU-AI-411631327/blob/main/0529.ipynb\" target=\"_parent\"><img src=\"https://colab.research.google.com/assets/colab-badge.svg\" alt=\"Open In Colab\"/></a>"
      ]
    },
    {
      "cell_type": "code",
      "execution_count": null,
      "metadata": {
        "colab": {
          "base_uri": "https://localhost:8080/"
        },
        "id": "SygZ-Rh5Y4CP",
        "outputId": "f6068b88-75a4-4947-a6a0-c32bdd38cc6b"
      },
      "outputs": [
        {
          "output_type": "stream",
          "name": "stdout",
          "text": [
            "请输入整数n: 5\n",
            "*\n",
            "**\n",
            "***\n",
            "****\n",
            "*****\n"
          ]
        }
      ],
      "source": [
        "n = int(input(\"请输入整数n: \"))\n",
        "for i in range(1, n+1):\n",
        "    print('*' * i)\n"
      ]
    },
    {
      "cell_type": "code",
      "source": [
        "def determine_season(month):\n",
        "    if 3 <= month <= 5:\n",
        "        return \"Spring\"\n",
        "    elif 6 <= month <= 8:\n",
        "        return \"Summer\"\n",
        "    elif 9 <= month <= 11:\n",
        "        return \"Autumn\"\n",
        "    elif month == 12 or month == 1 or month == 2:\n",
        "        return \"Winter\"\n",
        "    else:\n",
        "        return \"Input error\"\n",
        "\n",
        "user_input = int(input(\"Enter a month (1-12): \"))\n",
        "print(f\"{user_input} is in {determine_season(user_input)}.\")\n"
      ],
      "metadata": {
        "colab": {
          "base_uri": "https://localhost:8080/"
        },
        "id": "jqA-0-Osa_2d",
        "outputId": "848c9cba-9ef1-404f-a562-a1e9b6a9e8a6"
      },
      "execution_count": null,
      "outputs": [
        {
          "output_type": "stream",
          "name": "stdout",
          "text": [
            "Enter a month (1-12): 88\n",
            "88 is in Input error.\n"
          ]
        }
      ]
    },
    {
      "cell_type": "code",
      "source": [
        "def grade(score):\n",
        "    if score > 100 or score < 0:\n",
        "        return \"X is error\"\n",
        "    elif 90 <= score <= 100:\n",
        "        return \"X is A\"\n",
        "    elif 80 <= score <= 89:\n",
        "        return \"X is B\"\n",
        "    elif 70 <= score <= 79:\n",
        "        return \"X is C\"\n",
        "    elif 60 <= score <= 69:\n",
        "        return \"X is D\"\n",
        "    elif 0 <= score <= 59:\n",
        "        return \"X is E\"\n",
        "    else:\n",
        "        return \"Input error\"\n",
        "user_score = int(input(\"请输入成绩（整数型态）: \"))\n",
        "\n",
        "print(grade(user_score))\n"
      ],
      "metadata": {
        "colab": {
          "base_uri": "https://localhost:8080/"
        },
        "id": "6hdkaGINbpOt",
        "outputId": "c759dfc8-5480-4e72-bc4a-c680cb79fd34"
      },
      "execution_count": null,
      "outputs": [
        {
          "output_type": "stream",
          "name": "stdout",
          "text": [
            "请输入成绩（整数型态）: 99\n",
            "X is A\n"
          ]
        }
      ]
    }
  ]
}