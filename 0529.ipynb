{
  "nbformat": 4,
  "nbformat_minor": 0,
  "metadata": {
    "colab": {
      "provenance": [],
      "authorship_tag": "ABX9TyNclN7UQXryIKOxGWXtd8Zm",
      "include_colab_link": true
    },
    "kernelspec": {
      "name": "python3",
      "display_name": "Python 3"
    },
    "language_info": {
      "name": "python"
    }
  },
  "cells": [
    {
      "cell_type": "markdown",
      "metadata": {
        "id": "view-in-github",
        "colab_type": "text"
      },
      "source": [
        "<a href=\"https://colab.research.google.com/github/jasonhouse1/TKU-AI-411631327/blob/main/0529.ipynb\" target=\"_parent\"><img src=\"https://colab.research.google.com/assets/colab-badge.svg\" alt=\"Open In Colab\"/></a>"
      ]
    },
    {
      "cell_type": "code",
      "execution_count": null,
      "metadata": {
        "colab": {
          "base_uri": "https://localhost:8080/"
        },
        "id": "SygZ-Rh5Y4CP",
        "outputId": "f6068b88-75a4-4947-a6a0-c32bdd38cc6b"
      },
      "outputs": [
        {
          "output_type": "stream",
          "name": "stdout",
          "text": [
            "请输入整数n: 5\n",
            "*\n",
            "**\n",
            "***\n",
            "****\n",
            "*****\n"
          ]
        }
      ],
      "source": [
        "n = int(input(\"请输入整数n: \"))\n",
        "for i in range(1, n+1):\n",
        "    print('*' * i)\n"
      ]
    },
    {
      "cell_type": "code",
      "source": [
        "def determine_season(month):\n",
        "    if 3 <= month <= 5:\n",
        "        return \"Spring\"\n",
        "    elif 6 <= month <= 8:\n",
        "        return \"Summer\"\n",
        "    elif 9 <= month <= 11:\n",
        "        return \"Autumn\"\n",
        "    elif month == 12 or month == 1 or month == 2:\n",
        "        return \"Winter\"\n",
        "    else:\n",
        "        return \"Input error\"\n",
        "\n",
        "user_input = int(input(\"Enter a month (1-12): \"))\n",
        "print(f\"{user_input} is in {determine_season(user_input)}.\")\n",
        "#多向"
      ],
      "metadata": {
        "colab": {
          "base_uri": "https://localhost:8080/"
        },
        "id": "jqA-0-Osa_2d",
        "outputId": "848c9cba-9ef1-404f-a562-a1e9b6a9e8a6"
      },
      "execution_count": null,
      "outputs": [
        {
          "output_type": "stream",
          "name": "stdout",
          "text": [
            "Enter a month (1-12): 88\n",
            "88 is in Input error.\n"
          ]
        }
      ]
    },
    {
      "cell_type": "code",
      "source": [
        "# 季節判斷(巢狀判斷式)\n",
        "monthB = int(input('請輸入月份(阿拉伯數字): '))\n",
        "\n",
        "if 1 <= monthB <= 12:\n",
        "    if 3 <= monthB <= 5:\n",
        "        print('{}月是春天!'.format(monthB))\n",
        "    elif 6 <= monthB <= 8:\n",
        "        print('{}月是夏天!'.format(monthB))\n",
        "    elif 9 <= monthB <= 11:\n",
        "        print('{}月是秋天!'.format(monthB))\n",
        "    else:\n",
        "        print('{}月是冬天!'.format(monthB))\n",
        "else:\n",
        "    print('月份不在範圍內!')\n"
      ],
      "metadata": {
        "colab": {
          "base_uri": "https://localhost:8080/"
        },
        "id": "NXGt0GhtOLTH",
        "outputId": "31c7719e-6bf6-4ad8-e46d-bea7d9ef9ba8"
      },
      "execution_count": 8,
      "outputs": [
        {
          "output_type": "stream",
          "name": "stdout",
          "text": [
            "請輸入月份(阿拉伯數字): 5\n",
            "5月是春天!\n"
          ]
        }
      ]
    },
    {
      "cell_type": "code",
      "source": [
        "def grade(score):\n",
        "    if score > 100 or score < 0:\n",
        "        return \"X is error\"\n",
        "    elif 90 <= score <= 100:\n",
        "        return \"X is A\"\n",
        "    elif 80 <= score <= 89:\n",
        "        return \"X is B\"\n",
        "    elif 70 <= score <= 79:\n",
        "        return \"X is C\"\n",
        "    elif 60 <= score <= 69:\n",
        "        return \"X is D\"\n",
        "    elif 0 <= score <= 59:\n",
        "        return \"X is E\"\n",
        "    else:\n",
        "        return \"Input error\"\n",
        "user_score = int(input(\"请输入成绩（整数型态）: \"))\n",
        "\n",
        "print(grade(user_score))\n"
      ],
      "metadata": {
        "colab": {
          "base_uri": "https://localhost:8080/"
        },
        "id": "6hdkaGINbpOt",
        "outputId": "c759dfc8-5480-4e72-bc4a-c680cb79fd34"
      },
      "execution_count": null,
      "outputs": [
        {
          "output_type": "stream",
          "name": "stdout",
          "text": [
            "请输入成绩（整数型态）: 99\n",
            "X is A\n"
          ]
        }
      ]
    },
    {
      "cell_type": "code",
      "source": [
        "def get_tax_rate(income):\n",
        "    if income > 2000000:\n",
        "        return 0.3\n",
        "    elif income > 1000000:\n",
        "        return 0.21\n",
        "    elif income > 600000:\n",
        "        return 0.13\n",
        "    elif income > 300000:\n",
        "        return 0.06\n",
        "    else:\n",
        "        return 0  # 若收入在300000以下，稅率為0\n",
        "\n",
        "def calculate_tax(income, tax_rate):\n",
        "    return income * tax_rate\n",
        "\n",
        "# 用戶輸入收入\n",
        "income = float(input(\"請輸入今年收入淨額: \"))\n",
        "\n",
        "# 獲取適用的稅率\n",
        "tax_rate = get_tax_rate(income)\n",
        "\n",
        "# 計算稅金\n",
        "tax = calculate_tax(income, tax_rate)\n",
        "\n",
        "# 輸出結果\n",
        "print(f\"請輸入今年收入淨額: {income:.0f}\")\n",
        "print(f\"稅率: {tax_rate:.2f}\")\n",
        "print(f\"付稅金額: {tax:.0f}元\")\n",
        ""
      ],
      "metadata": {
        "colab": {
          "base_uri": "https://localhost:8080/"
        },
        "id": "kPQL16rfENpt",
        "outputId": "faaf6e1b-272b-4ec8-cde6-3f8ddee83c6c"
      },
      "execution_count": 5,
      "outputs": [
        {
          "output_type": "stream",
          "name": "stdout",
          "text": [
            "請輸入今年收入淨額: 300001\n",
            "請輸入今年收入淨額: 300001\n",
            "稅率: 0.06\n",
            "付稅金額: 18000元\n"
          ]
        }
      ]
    },
    {
      "cell_type": "code",
      "source": [
        "# 稅金計算(巢狀判斷式)\n",
        "incomeB = int(input('請輸入今年收入淨額: '))\n",
        "\n",
        "if incomeB >= 300000:\n",
        "    if incomeB >= 2000000:\n",
        "        print('付稅金額: {} 元'.format(incomeB * 0.3))\n",
        "    elif incomeB >= 1000000:\n",
        "        print('付稅金額: {} 元'.format(incomeB * 0.21))\n",
        "    elif incomeB >= 600000:\n",
        "        print('付稅金額: {} 元'.format(incomeB * 0.13))\n",
        "    else:\n",
        "        print('付稅金額: {} 元'.format(incomeB * 0.06))\n",
        "else:\n",
        "    print('付稅金額: 0 元')\n"
      ],
      "metadata": {
        "colab": {
          "base_uri": "https://localhost:8080/"
        },
        "id": "bZPJHjDvEVNy",
        "outputId": "6225d22f-44d3-4fac-c578-b22931ee6f7d"
      },
      "execution_count": 6,
      "outputs": [
        {
          "output_type": "stream",
          "name": "stdout",
          "text": [
            "請輸入今年收入淨額: 1000000\n",
            "付稅金額: 210000.0 元\n"
          ]
        }
      ]
    },
    {
      "cell_type": "code",
      "source": [
        "# 稅金計算(巢狀判斷式)\n",
        "incomeB = int(input('請輸入今年收入淨額: '))\n",
        "\n",
        "if incomeB >= 300000:\n",
        "    if incomeB >= 2000000:\n",
        "        tax_rate = 0.3\n",
        "    elif incomeB >= 1000000:\n",
        "        tax_rate = 0.21\n",
        "    elif incomeB >= 600000:\n",
        "        tax_rate = 0.13\n",
        "    else:\n",
        "        tax_rate = 0.06\n",
        "    tax_amount = incomeB * tax_rate\n",
        "    print(f'稅率: {tax_rate}')\n",
        "    print('付稅金額: {} 元'.format(tax_amount))\n",
        "else:\n",
        "    print('稅率: 0')\n",
        "    print('付稅金額: 0 元')\n"
      ],
      "metadata": {
        "colab": {
          "base_uri": "https://localhost:8080/"
        },
        "id": "BmuJqaPrEOIi",
        "outputId": "ea350546-3732-4fd4-a466-a34c7384e0f4"
      },
      "execution_count": 7,
      "outputs": [
        {
          "output_type": "stream",
          "name": "stdout",
          "text": [
            "請輸入今年收入淨額: 1000000\n",
            "稅率: 0.21\n",
            "付稅金額: 210000.0 元\n"
          ]
        }
      ]
    },
    {
      "cell_type": "code",
      "source": [
        "# 百貨公司週年慶(巢狀判斷式)\n",
        "shop = int(input('請輸入購物金額: '))\n",
        "\n",
        "if shop >= 10000:\n",
        "    if shop >= 100000:\n",
        "        print('八折 ({}元)'.format(shop * 0.8))\n",
        "    elif shop >= 50000:\n",
        "        print('八五折 ({}元)'.format(shop * 0.85))\n",
        "    elif shop >= 30000:\n",
        "        print('九折 ({}元)'.format(shop * 0.9))\n",
        "    else:\n",
        "        print('九五折 ({}元)'.format(shop * 0.95))\n",
        "else:\n",
        "    print('沒打折 {}元'.format(shop))\n"
      ],
      "metadata": {
        "colab": {
          "base_uri": "https://localhost:8080/"
        },
        "id": "4kDA1vU2EOPW",
        "outputId": "0c859d97-9f57-4692-d5e8-6e615960148b"
      },
      "execution_count": 10,
      "outputs": [
        {
          "output_type": "stream",
          "name": "stdout",
          "text": [
            "請輸入購物金額: 9999\n",
            "沒打折 9999元\n"
          ]
        }
      ]
    },
    {
      "cell_type": "code",
      "source": [
        "#體溫判斷\n",
        "temperature = float(input(\"請輸入您的體溫: \"))\n",
        "\n",
        "if temperature >= 37.5:\n",
        "    print(\"{:.1f} is over\".format(temperature))\n",
        "elif 37 <= temperature <= 37.4:\n",
        "    print(\"{:.1f} is little over\".format(temperature))\n",
        "elif 34 <= temperature <= 36.9:\n",
        "    print(\"{:.1f} is normal\".format(temperature))\n",
        "elif temperature < 34:\n",
        "    print(\"{:.1f} is error\".format(temperature))\n"
      ],
      "metadata": {
        "colab": {
          "base_uri": "https://localhost:8080/"
        },
        "id": "nTX7_1y6PfY3",
        "outputId": "cc07dca0-3c35-4965-f9c1-81fb8b64026f"
      },
      "execution_count": 11,
      "outputs": [
        {
          "output_type": "stream",
          "name": "stdout",
          "text": [
            "請輸入您的體溫: 33\n",
            "33.0 is error\n"
          ]
        }
      ]
    },
    {
      "cell_type": "code",
      "source": [
        "#成績等第判斷\n",
        "score = int(input())\n",
        "\n",
        "if 90 <= score <= 100:\n",
        "    print('{} is A'.format(score))\n",
        "elif 80 <= score <= 89:\n",
        "    print('{} is B'.format(score))\n",
        "elif 70 <= score <= 79:\n",
        "    print('{} is C'.format(score))\n",
        "elif 60 <= score <= 69:\n",
        "    print('{} is D'.format(score))\n",
        "elif 0 <= score <= 59:\n",
        "    print('{} is E'.format(score))\n",
        "else:\n",
        "    print('{} is out of range'.format(score))\n"
      ],
      "metadata": {
        "colab": {
          "base_uri": "https://localhost:8080/"
        },
        "id": "HyZzKNKxEOTx",
        "outputId": "8740e1f9-9517-4452-cb5f-c7b6e9d8c807"
      },
      "execution_count": 12,
      "outputs": [
        {
          "output_type": "stream",
          "name": "stdout",
          "text": [
            "60\n",
            "60 is D\n"
          ]
        }
      ]
    },
    {
      "cell_type": "code",
      "source": [
        "#季節判斷(國歷)\n",
        "month = int(input())\n",
        "\n",
        "if 3 <= month <= 5:\n",
        "    print('{} is spring'.format(month))\n",
        "elif 6 <= month <= 8:\n",
        "    print('{} is summer'.format(month))\n",
        "elif 9 <= month <= 11:\n",
        "    print('{} is autumn'.format(month))\n",
        "elif month in [12, 1, 2]:\n",
        "    print('{} is winter'.format(month))\n",
        "else:\n",
        "    print('input error')\n"
      ],
      "metadata": {
        "colab": {
          "base_uri": "https://localhost:8080/"
        },
        "id": "0OqZF8LjEOXa",
        "outputId": "554b066b-52a2-4ff6-9811-deb96213ccf3"
      },
      "execution_count": 13,
      "outputs": [
        {
          "output_type": "stream",
          "name": "stdout",
          "text": [
            "5\n",
            "5 is spring\n"
          ]
        }
      ]
    },
    {
      "cell_type": "code",
      "source": [
        "#請使用者輸入一個正整數後,程式就會印出從1到該整數\n",
        "#(需包括該整數)的數列。(利用range函式)\n",
        "n = int(input(\"請輸入一個正整數: \"))\n",
        "\n",
        "for i in range(1, n + 1):\n",
        "    print(i, end=' ')\n"
      ],
      "metadata": {
        "colab": {
          "base_uri": "https://localhost:8080/"
        },
        "id": "SJcOLY2MEObS",
        "outputId": "6685a607-529a-4b07-88f1-8fd57484434c"
      },
      "execution_count": 14,
      "outputs": [
        {
          "output_type": "stream",
          "name": "stdout",
          "text": [
            "請輸入一個正整數: 5\n",
            "1 2 3 4 5 "
          ]
        }
      ]
    },
    {
      "cell_type": "code",
      "source": [
        "#請使用者輸入一個正整數後,程式就會計算出從1\n",
        "#到該整數的總和。(利用range函式)\n",
        "sum = 0\n",
        "n = int(input(\"請輸入一個正整數: \"))\n",
        "\n",
        "for i in range(1, n + 1):\n",
        "    sum += i\n",
        "\n",
        "print(\"1到%d 的整數和為: %d\" % (n, sum))\n"
      ],
      "metadata": {
        "colab": {
          "base_uri": "https://localhost:8080/"
        },
        "id": "9z3mIOUXEOiJ",
        "outputId": "a9e52cbb-b25b-406e-e069-cb81b1ecf02e"
      },
      "execution_count": 16,
      "outputs": [
        {
          "output_type": "stream",
          "name": "stdout",
          "text": [
            "請輸入一個正整數: 50\n",
            "1到50 的整數和為: 1275\n"
          ]
        }
      ]
    },
    {
      "cell_type": "code",
      "source": [
        "#FOR迴圈裡面加FOR回圈示範\n",
        "n = 0\n",
        "\n",
        "for i in range(1, 10001):\n",
        "    for j in range(1, 10001):\n",
        "        n += 1\n",
        "\n",
        "print(n)\n"
      ],
      "metadata": {
        "colab": {
          "base_uri": "https://localhost:8080/"
        },
        "id": "gFJk1VLBEOk1",
        "outputId": "43dfa0df-5280-48c8-a672-836c40800900"
      },
      "execution_count": 17,
      "outputs": [
        {
          "output_type": "stream",
          "name": "stdout",
          "text": [
            "100000000\n"
          ]
        }
      ]
    },
    {
      "cell_type": "code",
      "source": [
        "# 九九乘法表\n",
        "for i in range(1, 10):\n",
        "    for j in range(1, 10):\n",
        "        ans = i * j\n",
        "        print(\"%d*%d=%2d\" % (i, j, ans), end=\" \")\n",
        "    print()\n"
      ],
      "metadata": {
        "colab": {
          "base_uri": "https://localhost:8080/"
        },
        "id": "QrGrnjc2EOn4",
        "outputId": "4d816eb6-5ac5-48ae-cac8-9a333c10368c"
      },
      "execution_count": 18,
      "outputs": [
        {
          "output_type": "stream",
          "name": "stdout",
          "text": [
            "1*1= 1 1*2= 2 1*3= 3 1*4= 4 1*5= 5 1*6= 6 1*7= 7 1*8= 8 1*9= 9 \n",
            "2*1= 2 2*2= 4 2*3= 6 2*4= 8 2*5=10 2*6=12 2*7=14 2*8=16 2*9=18 \n",
            "3*1= 3 3*2= 6 3*3= 9 3*4=12 3*5=15 3*6=18 3*7=21 3*8=24 3*9=27 \n",
            "4*1= 4 4*2= 8 4*3=12 4*4=16 4*5=20 4*6=24 4*7=28 4*8=32 4*9=36 \n",
            "5*1= 5 5*2=10 5*3=15 5*4=20 5*5=25 5*6=30 5*7=35 5*8=40 5*9=45 \n",
            "6*1= 6 6*2=12 6*3=18 6*4=24 6*5=30 6*6=36 6*7=42 6*8=48 6*9=54 \n",
            "7*1= 7 7*2=14 7*3=21 7*4=28 7*5=35 7*6=42 7*7=49 7*8=56 7*9=63 \n",
            "8*1= 8 8*2=16 8*3=24 8*4=32 8*5=40 8*6=48 8*7=56 8*8=64 8*9=72 \n",
            "9*1= 9 9*2=18 9*3=27 9*4=36 9*5=45 9*6=54 9*7=63 9*8=72 9*9=81 \n"
          ]
        }
      ]
    },
    {
      "cell_type": "code",
      "source": [
        "#1到100的總和\n",
        "sum = 0\n",
        "for i in range(1, 101):\n",
        "    sum += i\n",
        "print(sum)\n"
      ],
      "metadata": {
        "id": "yrFJIDJ9EOq9"
      },
      "execution_count": null,
      "outputs": []
    },
    {
      "cell_type": "markdown",
      "source": [],
      "metadata": {
        "id": "uUfgFpfUEOto"
      }
    },
    {
      "cell_type": "code",
      "source": [
        "#請設計一個程式,讓使用者輸入整數n後,會列出n所有的因數。\n",
        "#提示:可用for迴圈完成。\n",
        "n = int(input())\n",
        "for i in range(1, n + 1):\n",
        "  if(n%i==0):\n",
        "    print(i, end=' ')"
      ],
      "metadata": {
        "colab": {
          "base_uri": "https://localhost:8080/"
        },
        "id": "-b97KlzWEO2A",
        "outputId": "c28a9e75-fb93-4368-fb40-01c2e33c29e9"
      },
      "execution_count": 19,
      "outputs": [
        {
          "output_type": "stream",
          "name": "stdout",
          "text": [
            "30\n",
            "1 2 3 5 6 10 15 30 "
          ]
        }
      ]
    },
    {
      "cell_type": "code",
      "source": [
        "#3和7的倍數總和\n",
        "n = int(input())\n",
        "sum = 0\n",
        "for i in range(1,n+1):\n",
        "  if(i%3==0 or i%7==0):\n",
        "    sum += i\n",
        "print(sum)"
      ],
      "metadata": {
        "colab": {
          "base_uri": "https://localhost:8080/"
        },
        "id": "RyqmmOxqU72X",
        "outputId": "e54af691-cc86-455b-a0b5-9717a4ce7cb8"
      },
      "execution_count": 20,
      "outputs": [
        {
          "output_type": "stream",
          "name": "stdout",
          "text": [
            "25\n",
            "129\n"
          ]
        }
      ]
    },
    {
      "cell_type": "code",
      "source": [
        "#請設計一個程式,將使用者輸入的字串,連續轉換大寫.小寫並print出結果。\n",
        "#奇數位置為大寫;偶數位置為小寫,如底下範例。\n",
        "\n",
        "a = input()\n",
        "for i in range(len(a)):\n",
        "  if(i%2==0):\n",
        "    print(a[i].upper(), end='')\n",
        "  else:\n",
        "    print(a[i].lower(), end='')"
      ],
      "metadata": {
        "colab": {
          "base_uri": "https://localhost:8080/"
        },
        "id": "qHwkzXJSV2fV",
        "outputId": "a4ed36c7-1ca6-4200-9fc4-7e1c3e2e072e"
      },
      "execution_count": 22,
      "outputs": [
        {
          "output_type": "stream",
          "name": "stdout",
          "text": [
            "panda\n",
            "PaNdA"
          ]
        }
      ]
    },
    {
      "cell_type": "code",
      "source": [
        "#製作密碼遮罩器\n",
        "#請設計一個程式,讓使用者input密碼後,再將密碼每個字元轉成「*」後換行輸出,最後也需要換行輸出密碼的長度。\n",
        "a = input()\n",
        "for i in range(len(a)):\n",
        "  print(\"*\",end=\"\")\n",
        "print()\n",
        "print(\"total:{}\".format(len(a)))"
      ],
      "metadata": {
        "colab": {
          "base_uri": "https://localhost:8080/"
        },
        "id": "WH83OumuXUZV",
        "outputId": "be61fdff-c306-4e87-f44a-4ee568c1fc21"
      },
      "execution_count": 24,
      "outputs": [
        {
          "output_type": "stream",
          "name": "stdout",
          "text": [
            "abcd\n",
            "****\n",
            "total:4\n"
          ]
        }
      ]
    },
    {
      "cell_type": "code",
      "source": [
        "#印出99乘法表\n",
        "n = int(input())\n",
        "for i in range(n,10):\n",
        "  for j in range(1,10):\n",
        "    print(\"%d*%d=%d\"%(i,j,i*j),end=\" \")\n",
        "  print()"
      ],
      "metadata": {
        "colab": {
          "base_uri": "https://localhost:8080/"
        },
        "id": "veZhkGxhXUeL",
        "outputId": "65b50c69-5ec7-4cfc-e8d7-45ec03944a38"
      },
      "execution_count": 25,
      "outputs": [
        {
          "output_type": "stream",
          "name": "stdout",
          "text": [
            "5\n",
            "5*1=5 5*2=10 5*3=15 5*4=20 5*5=25 5*6=30 5*7=35 5*8=40 5*9=45 \n",
            "6*1=6 6*2=12 6*3=18 6*4=24 6*5=30 6*6=36 6*7=42 6*8=48 6*9=54 \n",
            "7*1=7 7*2=14 7*3=21 7*4=28 7*5=35 7*6=42 7*7=49 7*8=56 7*9=63 \n",
            "8*1=8 8*2=16 8*3=24 8*4=32 8*5=40 8*6=48 8*7=56 8*8=64 8*9=72 \n",
            "9*1=9 9*2=18 9*3=27 9*4=36 9*5=45 9*6=54 9*7=63 9*8=72 9*9=81 \n"
          ]
        }
      ]
    },
    {
      "cell_type": "code",
      "source": [
        "n = int(input())\n",
        "sum = 0\n",
        "for i in range(15,n+1):\n",
        "  if(i%2==0):\n",
        "    sum += i\n",
        "print(sum)"
      ],
      "metadata": {
        "colab": {
          "base_uri": "https://localhost:8080/"
        },
        "id": "yI3ufMyCZ-Cq",
        "outputId": "37aa4d2a-eb71-4af2-e95c-cf8e3758136d"
      },
      "execution_count": 26,
      "outputs": [
        {
          "output_type": "stream",
          "name": "stdout",
          "text": [
            "22\n",
            "76\n"
          ]
        }
      ]
    },
    {
      "cell_type": "code",
      "source": [
        "#成績計算機\n",
        "\n",
        "# 讀取並分割用戶輸入的成績\n",
        "scores = input().split()\n",
        "\n",
        "# 將成績轉換為浮點數\n",
        "chinese = float(scores[0])\n",
        "english = float(scores[1])\n",
        "math = float(scores[2])\n",
        "\n",
        "# 計算總分與平均分數\n",
        "total_score = chinese + english + math\n",
        "average_score = total_score / 3\n",
        "\n",
        "# 輸出總分與平均分數（四捨五入到小數後2位）\n",
        "print(\"sum={:.2f}\".format(round(total_score, 2)))\n",
        "print(\"avg={:.2f}\".format(round(average_score, 2)))\n"
      ],
      "metadata": {
        "id": "bSkkGgnfaTe1"
      },
      "execution_count": null,
      "outputs": []
    },
    {
      "cell_type": "code",
      "source": [
        "#BMI計算(分兩行輸入)\n",
        "\n",
        "# 讀取身高與體重並轉換為浮點數\n",
        "height = float(input())\n",
        "weight = float(input())\n",
        "\n",
        "# 計算BMI\n",
        "bmi = weight / ((height / 100) ** 2)\n",
        "\n",
        "# 以特定格式輸出BMI結果，輸出至小數後2位\n",
        "print(\"%.2f\" % bmi)\n"
      ],
      "metadata": {
        "id": "cjIjUQ04eQ7d"
      },
      "execution_count": null,
      "outputs": []
    },
    {
      "cell_type": "code",
      "source": [],
      "metadata": {
        "id": "Fkz0Sha2flsp"
      },
      "execution_count": null,
      "outputs": []
    },
    {
      "cell_type": "markdown",
      "source": [
        "print文字\n",
        "Description\n",
        "\n",
        "使用print功能顯示文字\n",
        "\n",
        "\n",
        "\n",
        "Input\n",
        "Hello World\n",
        "\n",
        "\n",
        "Output\n",
        "Hello World\n",
        "\n",
        "\n",
        "Sample Input 1\n",
        "\n",
        "Hello World\n",
        "Sample Output 1\n",
        "\n",
        "Hello World"
      ],
      "metadata": {
        "id": "JmFyoPltft_g"
      }
    },
    {
      "cell_type": "code",
      "source": [
        "num = int(input())\n",
        "\n",
        "if num >= 0:\n",
        "    if num % 2 == 0:\n",
        "        print(\"{} is even\".format(num))\n",
        "    else:\n",
        "        print(\"{} is odd\".format(num))\n",
        "else:\n",
        "    print(\"Input Error\")\n"
      ],
      "metadata": {
        "colab": {
          "base_uri": "https://localhost:8080/"
        },
        "id": "z_h5kBO6fwAZ",
        "outputId": "e5ffc8bb-8852-4662-b50e-2f3f26e1f6d8"
      },
      "execution_count": 27,
      "outputs": [
        {
          "output_type": "stream",
          "name": "stdout",
          "text": [
            "0\n",
            "0 is even\n"
          ]
        }
      ]
    },
    {
      "cell_type": "markdown",
      "source": [
        "print文字\n",
        "Input\n",
        "Hello World\n",
        "\n",
        "\n",
        "Output\n",
        "Hello World\n",
        "\n",
        "\n",
        "Sample Input 1\n",
        "\n",
        "Hello World\n",
        "Sample Output 1\n",
        "\n",
        "Hello World\n"
      ],
      "metadata": {
        "id": "PHXxE7qSgdSn"
      }
    },
    {
      "cell_type": "code",
      "source": [
        "text = input()\n",
        "print(text)\n"
      ],
      "metadata": {
        "colab": {
          "base_uri": "https://localhost:8080/"
        },
        "id": "sRuMdA6ngcU1",
        "outputId": "e61bdd8f-ef53-43ac-ea1d-f9c906d6ae4d"
      },
      "execution_count": 28,
      "outputs": [
        {
          "output_type": "stream",
          "name": "stdout",
          "text": [
            "Hello World\n",
            "Hello World\n"
          ]
        }
      ]
    },
    {
      "cell_type": "markdown",
      "source": [
        "取得字串長度"
      ],
      "metadata": {
        "id": "5WcZ4i_QgqCQ"
      }
    },
    {
      "cell_type": "code",
      "source": [
        "def get_length(string):\n",
        "    return len(string)\n",
        "\n",
        "input_string = input()\n",
        "print(get_length(input_string))\n"
      ],
      "metadata": {
        "id": "TyiqNSYUgpp3"
      },
      "execution_count": null,
      "outputs": []
    },
    {
      "cell_type": "markdown",
      "source": [
        "四則運算-加法\n",
        "Description\n",
        "\n",
        "加法運算\n",
        "\n",
        "\n",
        "Input\n",
        "456+789\n",
        "\n",
        "\n",
        "Output\n",
        "1245\n",
        "\n",
        "\n",
        "Sample Input 1\n",
        "\n",
        "456+789\n",
        "Sample Output 1\n",
        "\n",
        "1245"
      ],
      "metadata": {
        "id": "ljBxaYU5g7z3"
      }
    },
    {
      "cell_type": "code",
      "source": [
        "expression = input()\n",
        "result = eval(expression)\n",
        "print(result)\n"
      ],
      "metadata": {
        "colab": {
          "base_uri": "https://localhost:8080/"
        },
        "id": "Ey4a85lHhAnQ",
        "outputId": "ac9d219a-2cd1-47e0-edbe-6038c564fcf9"
      },
      "execution_count": 29,
      "outputs": [
        {
          "output_type": "stream",
          "name": "stdout",
          "text": [
            "456+789\n",
            "1245\n"
          ]
        }
      ]
    },
    {
      "cell_type": "markdown",
      "source": [
        "複列印文字\n",
        "Description\n",
        "\n",
        "將1,2,3在括弧內印出3次\n",
        "\n",
        "\n",
        "Input\n",
        "在同一行輸入1 2 3\n",
        "\n",
        "\n",
        "Output\n",
        "重複打印結果\n",
        "\n",
        "\n",
        "Sample Input 1\n",
        "\n",
        "1 2 3\n",
        "Sample Output 1\n",
        "\n",
        "1 2 3 1 2 3 1 2 3"
      ],
      "metadata": {
        "id": "GQFsTks2hJuI"
      }
    },
    {
      "cell_type": "code",
      "source": [
        "numbers = input().split()\n",
        "repeated_numbers = ' '.join(numbers * 3)\n",
        "print(repeated_numbers)\n"
      ],
      "metadata": {
        "colab": {
          "base_uri": "https://localhost:8080/"
        },
        "id": "zgrsqG-YhNv6",
        "outputId": "105a2ece-858f-43cb-9149-f08d74774b4f"
      },
      "execution_count": 30,
      "outputs": [
        {
          "output_type": "stream",
          "name": "stdout",
          "text": [
            "1 2 3\n",
            "1 2 3 1 2 3 1 2 3\n"
          ]
        }
      ]
    },
    {
      "cell_type": "markdown",
      "source": [
        "將文字順序顛倒印出\n",
        "Description\n",
        "\n",
        "反向輸出列表中的數值\n",
        "\n",
        "\n",
        "Input\n",
        "在同一行輸入3個單字\n",
        "\n",
        "\n",
        "Output\n",
        "文字將顛倒印出\n",
        "\n",
        "\n",
        "Sample Input 1\n",
        "\n",
        "apple orange banana\n",
        "Sample Output 1\n",
        "\n",
        "banana orange apple"
      ],
      "metadata": {
        "id": "tdIDDMqOhYDi"
      }
    },
    {
      "cell_type": "code",
      "source": [
        "words = input().split()\n",
        "reversed_words = ' '.join(words[::-1])\n",
        "print(reversed_words)\n"
      ],
      "metadata": {
        "colab": {
          "base_uri": "https://localhost:8080/"
        },
        "id": "IJ4gwz14hjIh",
        "outputId": "04b9dfbc-6a98-4fed-b454-527cbcc25448"
      },
      "execution_count": 31,
      "outputs": [
        {
          "output_type": "stream",
          "name": "stdout",
          "text": [
            "apple orange banana\n",
            "banana orange apple\n"
          ]
        }
      ]
    },
    {
      "cell_type": "markdown",
      "source": [
        "求解1到100的總和\n",
        "Description\n",
        "\n",
        "1+2+3+..............+99+100=?\n",
        "\n",
        "\n",
        "Input\n",
        "整數1到100\n",
        "\n",
        "\n",
        "Output\n",
        "總和\n",
        "\n",
        "\n",
        "Sample Input 1\n",
        "\n",
        "1+2+3+4+5+.........+99+100\n",
        "Sample Output 1\n",
        "\n",
        "5050"
      ],
      "metadata": {
        "id": "YJPbvz1Ahn3e"
      }
    },
    {
      "cell_type": "code",
      "source": [
        "# 初始化總和變數\n",
        "total = 0\n",
        "\n",
        "# 使用迴圈計算總和\n",
        "for i in range(1, 101):\n",
        "    total += i\n",
        "\n",
        "# 輸出結果\n",
        "print(total)\n"
      ],
      "metadata": {
        "id": "U9evxm6bhwNW"
      },
      "execution_count": null,
      "outputs": []
    },
    {
      "cell_type": "markdown",
      "source": [
        "季節判斷\n",
        "Description\n",
        "\n",
        "我們知道1～3月為春天(spring)；4～6月為夏天(summer)；7～9月為秋天(autumn)；10～12月為冬天(winter)。\n",
        "\n",
        "請設計程式，讓使用者輸入月份(阿拉伯數字)後，請輸出該月份為哪個季節。若輸入非上述月份，請輸出錯誤結果。\n",
        "\n",
        "\n",
        "Input\n",
        "(none)\n",
        "\n",
        "\n",
        "Output\n",
        "(請參考下方Sample輸出結果)\n",
        "\n",
        "春天為 spring\n",
        "\n",
        "夏天為 summer\n",
        "\n",
        "秋天為 autumn\n",
        "\n",
        "冬天為 winter\n",
        "\n",
        "輸入錯誤為 Input Error\n",
        "\n",
        "\n",
        "Sample Input 1\n",
        "\n",
        "2\n",
        "Sample Output 1\n",
        "\n",
        "2 is spring\n",
        "Sample Input 2\n",
        "\n",
        "6\n",
        "Sample Output 2\n",
        "\n",
        "6 is summer\n",
        "Sample Input 3\n",
        "\n",
        "9\n",
        "Sample Output 3\n",
        "\n",
        "9 is autumn\n",
        "Sample Input 4\n",
        "\n",
        "11\n",
        "Sample Output 4\n",
        "\n",
        "11 is winter\n",
        "Sample Input 5\n",
        "\n",
        "14\n",
        "Sample Output 5\n",
        "\n",
        "Input Error\n",
        "Sample Input 6\n",
        "\n",
        "-2\n",
        "Sample Output 6\n",
        "\n",
        "Input Error"
      ],
      "metadata": {
        "id": "g6rj78cEhxsm"
      }
    },
    {
      "cell_type": "code",
      "source": [
        "month = int(input())\n",
        "\n",
        "if month in range(1, 4):\n",
        "    season = \"spring\"\n",
        "elif month in range(4, 7):\n",
        "    season = \"summer\"\n",
        "elif month in range(7, 10):\n",
        "    season = \"autumn\"\n",
        "elif month in range(10, 13):\n",
        "    season = \"winter\"\n",
        "else:\n",
        "    season = \"Input Error\"\n",
        "\n",
        "print(\"{} is {}\".format(month, season))\n"
      ],
      "metadata": {
        "colab": {
          "base_uri": "https://localhost:8080/"
        },
        "id": "Cvac5gEuh1Hj",
        "outputId": "c0af36ab-d63e-4ec1-ddda-c059781f80d4"
      },
      "execution_count": 32,
      "outputs": [
        {
          "output_type": "stream",
          "name": "stdout",
          "text": [
            "5\n",
            "5 is summer\n"
          ]
        }
      ]
    },
    {
      "cell_type": "markdown",
      "source": [
        "計程車費用問題\n",
        "Description\n",
        "\n",
        "狗仔姜賢南為了要蒐集證據而跟蹤他人，搭上了一台計程車。計程車計費方式為前5公里共240元，5公里後，只要多1公里加收40元(意思是第6公里起加收40元)，請設計程式讓司機能夠輸入公里數(int型態)，來計算乘車費用。\n",
        "\n",
        "\n",
        "Input\n",
        "(none)\n",
        "\n",
        "\n",
        "Output\n",
        "(請參考下方Sample輸出結果)\n",
        "\n",
        "如果公里數為0，則輸出 0 yuan\n",
        "\n",
        "如果公里數為1~5之間，則皆輸出 240 yuan\n",
        "\n",
        "如果公里數大於5，則自行計算總價格為多少。 例如公里數為8，則輸出360 yuan\n",
        "\n",
        "如果公里數為負數，則輸出Input Error\n",
        "\n",
        "\n",
        "Sample Input 1\n",
        "\n",
        "-2\n",
        "Sample Output 1\n",
        "\n",
        "Input Error\n",
        "Sample Input 2\n",
        "\n",
        "0\n",
        "Sample Output 2\n",
        "\n",
        "0 yuan\n",
        "Sample Input 3\n",
        "\n",
        "1\n",
        "Sample Output 3\n",
        "\n",
        "240 yuan\n",
        "Sample Input 4\n",
        "\n",
        "5\n",
        "Sample Output 4\n",
        "\n",
        "240 yuan\n",
        "Sample Input 5\n",
        "\n",
        "6\n",
        "Sample Output 5\n",
        "\n",
        "280 yuan\n",
        "Sample Input 6\n",
        "\n",
        "10\n",
        "Sample Output 6\n",
        "\n",
        "440 yuan"
      ],
      "metadata": {
        "id": "baAkpNfHiCGf"
      }
    },
    {
      "cell_type": "code",
      "source": [
        "distance = int(input())\n",
        "\n",
        "if distance < 0:\n",
        "    print(\"Input Error\")\n",
        "elif distance == 0:\n",
        "    print(\"0 yuan\")\n",
        "elif distance <= 5:\n",
        "    print(\"240 yuan\")\n",
        "else:\n",
        "    total = 240 + (distance - 5) * 40\n",
        "    print(\"{} yuan\".format(total))\n"
      ],
      "metadata": {
        "colab": {
          "base_uri": "https://localhost:8080/"
        },
        "id": "6EaIwv7CiDhR",
        "outputId": "6837d473-0c6a-4a8b-df57-6d3d71a5a4ab"
      },
      "execution_count": 33,
      "outputs": [
        {
          "output_type": "stream",
          "name": "stdout",
          "text": [
            "5\n",
            "240 yuan\n"
          ]
        }
      ]
    },
    {
      "cell_type": "markdown",
      "source": [
        "銀行複利問題\n",
        "Description\n",
        "\n",
        "同珢在銀行有一筆存款，他的本金為10,0000，目前銀行存款年利率為3%，以複利計算，N年後本金為何？\n",
        "\n",
        "請讓使用者自行出數N年數值(為int型態)。\n",
        "\n",
        "複利公式為：本金 ×（1 ＋ 利率） N的次方\n",
        "\n",
        "==================================\n",
        "\n",
        "舉例：本金為1000元，銀行年利率為1%，以複利計算，6年後本金為何？\n",
        "\n",
        "解法：1000 x (1 + 0.01)  6次方\n",
        "\n",
        "\n",
        "Input\n",
        "(none)\n",
        "\n",
        "\n",
        "Output\n",
        "(請參考下方Sample輸出結果)\n",
        "\n",
        "如果輸入的年份小於0，則輸出Input Error\n",
        "\n",
        "如果輸入的年份大於等於0，則輸出計算的結果\n",
        "\n",
        "\n",
        "Sample Input 1\n",
        "\n",
        "0\n",
        "Sample Output 1\n",
        "\n",
        "100000.0\n",
        "Sample Input 2\n",
        "\n",
        "1\n",
        "Sample Output 2\n",
        "\n",
        "103000.0\n",
        "Sample Input 3\n",
        "\n",
        "2\n",
        "Sample Output 3\n",
        "\n",
        "106090.0\n",
        "Sample Input 4\n",
        "\n",
        "5\n",
        "Sample Output 4\n",
        "\n",
        "115927.40743\n",
        "Sample Input 5\n",
        "\n",
        "12\n",
        "Sample Output 5\n",
        "\n",
        "142576.08868461792\n",
        "Sample Input 6\n",
        "\n",
        "-2\n",
        "Sample Output 6\n",
        "\n",
        "Input Error"
      ],
      "metadata": {
        "id": "w-lBiKXmiMzV"
      }
    },
    {
      "cell_type": "code",
      "source": [
        "principal = 100000\n",
        "interest_rate = 0.03\n",
        "\n",
        "years = int(input())\n",
        "\n",
        "if years < 0:\n",
        "    print(\"Input Error\")\n",
        "else:\n",
        "    amount = principal * (1 + interest_rate) ** years\n",
        "    print(\"{:.5f}\".format(amount))\n"
      ],
      "metadata": {
        "colab": {
          "base_uri": "https://localhost:8080/"
        },
        "id": "eNB6Q3fyiRqM",
        "outputId": "316a2342-684a-4b58-da18-4ec462a66606"
      },
      "execution_count": 34,
      "outputs": [
        {
          "output_type": "stream",
          "name": "stdout",
          "text": [
            "12\n",
            "142576.08868\n"
          ]
        }
      ]
    },
    {
      "cell_type": "markdown",
      "source": [
        "找出3個數的最小值\n",
        "Description\n",
        "\n",
        "請設計一個程式，讓使用者輸入3個整數(用空格隔開)後，來找出3個數的最小值。\n",
        "\n",
        "提示：可用判斷式完成。\n",
        "\n",
        "\n",
        "\n",
        "假設使用者input(用空格隔開)： 99 50 80\n",
        "\n",
        "程式要output：50 (因為50為3數之間最小值)\n",
        "\n",
        "\n",
        "Input\n",
        "(請參考下方input sample)\n",
        "\n",
        "\n",
        "Output\n",
        "(請參考下方output sample)\n",
        "\n",
        "\n",
        "Sample Input 1\n",
        "\n",
        "10 30 20\n",
        "Sample Output 1\n",
        "\n",
        "10\n",
        "Sample Input 2\n",
        "\n",
        "5 8 7\n",
        "Sample Output 2\n",
        "\n",
        "5\n",
        "Sample Input 3\n",
        "\n",
        "0 8 7\n",
        "Sample Output 3\n",
        "\n",
        "0\n",
        "Sample Input 4\n",
        "\n",
        "-10 3 -20\n",
        "Sample Output 4\n",
        "\n",
        "-20"
      ],
      "metadata": {
        "id": "WoNm8qewiYYZ"
      }
    },
    {
      "cell_type": "code",
      "source": [
        "numbers = input().split()\n",
        "\n",
        "# 將輸入轉換為整數\n",
        "numbers = [int(num) for num in numbers]\n",
        "\n",
        "# 找出最小值並輸出\n",
        "print(min(numbers))\n"
      ],
      "metadata": {
        "colab": {
          "base_uri": "https://localhost:8080/"
        },
        "id": "rGjRBwzZidTq",
        "outputId": "17c492ee-bf32-4c60-8ef1-f3c1eccc8976"
      },
      "execution_count": 35,
      "outputs": [
        {
          "output_type": "stream",
          "name": "stdout",
          "text": [
            "0 8 7\n",
            "0\n"
          ]
        }
      ]
    },
    {
      "cell_type": "markdown",
      "source": [
        "找出3個數的最大值\n",
        "Description\n",
        "\n",
        "請設計一個程式，讓使用者輸入3個浮點數(用空格隔開)後，來找出3個數的最大值。\n",
        "\n",
        "提示：可用判斷式完成。\n",
        "\n",
        "\n",
        "\n",
        "假設使用者input(用空格隔開)： 99.5 50.9 80.3\n",
        "\n",
        "程式要output：99.5 (因為99.5為3數之間最大值)\n",
        "\n",
        "\n",
        "Input\n",
        "(請參考下方input sample)\n",
        "\n",
        "\n",
        "Output\n",
        "(請參考下方output sample)\n",
        "\n",
        "\n",
        "Sample Input 1\n",
        "\n",
        "10.3 30.9 20.8\n",
        "Sample Output 1\n",
        "\n",
        "30.9\n",
        "Sample Input 2\n",
        "\n",
        "5.0 8.7 7.8\n",
        "Sample Output 2\n",
        "\n",
        "8.7\n",
        "Sample Input 3\n",
        "\n",
        "0 8.1 7.9\n",
        "Sample Output 3\n",
        "\n",
        "8.1\n",
        "Sample Input 4\n",
        "\n",
        "-10.3 3.999 -20.8\n",
        "Sample Output 4\n",
        "\n",
        "3.999"
      ],
      "metadata": {
        "id": "6kvU9jOIipil"
      }
    },
    {
      "cell_type": "code",
      "source": [
        "numbers = input().split()\n",
        "\n",
        "# 將輸入轉換為浮點數\n",
        "numbers = [float(num) for num in numbers]\n",
        "\n",
        "# 找出最大值並輸出\n",
        "print(max(numbers))\n"
      ],
      "metadata": {
        "colab": {
          "base_uri": "https://localhost:8080/"
        },
        "id": "13YfzDkiiqQi",
        "outputId": "a95169f9-5c3c-433d-a8f7-e2d7a743d3d8"
      },
      "execution_count": 36,
      "outputs": [
        {
          "output_type": "stream",
          "name": "stdout",
          "text": [
            "-10.3 3.999 -20.8\n",
            "3.999\n"
          ]
        }
      ]
    },
    {
      "cell_type": "markdown",
      "source": [
        "列出所有因數\n",
        "Description\n",
        "\n",
        "請設計一個程式，讓使用者輸入整數 n 後，會列出 n 所有的因數。\n",
        "\n",
        "提示：可用for迴圈完成。\n",
        "\n",
        "\n",
        "\n",
        "假設使用者input： 30\n",
        "\n",
        "程式要output：1 2 3 5 6 10 15 30 (也就是30的所有因數)\n",
        "\n",
        "\n",
        "Input\n",
        "(請參考下方input sample)\n",
        "\n",
        "\n",
        "Output\n",
        "(請參考下方output sample)\n",
        "\n",
        "\n",
        "Sample Input 1\n",
        "\n",
        "17\n",
        "Sample Output 1\n",
        "\n",
        "1 17\n",
        "Sample Input 2\n",
        "\n",
        "35\n",
        "Sample Output 2\n",
        "\n",
        "1 5 7 35\n",
        "Sample Input 3\n",
        "\n",
        "87\n",
        "Sample Output 3\n",
        "\n",
        "1 3 29 87\n",
        "Sample Input 4\n",
        "\n",
        "520\n",
        "Sample Output 4\n",
        "\n",
        "1 2 4 5 8 10 13 20 26 40 52 65 104 130 260 520"
      ],
      "metadata": {
        "id": "254BmnqNizfO"
      }
    },
    {
      "cell_type": "code",
      "source": [
        "n = int(input())\n",
        "factors = []\n",
        "\n",
        "for i in range(1, n + 1):\n",
        "    if n % i == 0:\n",
        "        factors.append(i)\n",
        "\n",
        "# 輸出所有因數\n",
        "print(*factors)\n"
      ],
      "metadata": {
        "colab": {
          "base_uri": "https://localhost:8080/"
        },
        "id": "s7_2VxQPi5ys",
        "outputId": "3c7d6568-d257-4331-eb8c-37dec62f6996"
      },
      "execution_count": 37,
      "outputs": [
        {
          "output_type": "stream",
          "name": "stdout",
          "text": [
            "17\n",
            "1 17\n"
          ]
        }
      ]
    },
    {
      "cell_type": "markdown",
      "source": [
        "計算3或7的倍數總和\n",
        "Description\n",
        "\n",
        "請設計一個程式，讓使用者輸入整數 n 後，會計算 1 ~ n中，3或7的倍數總和。\n",
        "\n",
        "提示：可用for迴圈 + if判斷式 完成。\n",
        "\n",
        "\n",
        "\n",
        "假設使用者input： 25\n",
        "\n",
        "程式要output：129\n",
        "\n",
        "(因為1~25中，3的倍數有：3 6 9 12 15 18 21 24)\n",
        "\n",
        "(因為1~25中，7的倍數有：7 14 21)\n",
        "\n",
        "故 3+6+7+9+12+14+15+18+21+24 = 129\n",
        "\n",
        "\n",
        "Input\n",
        "(請參考下方input sample)\n",
        "\n",
        "\n",
        "Output\n",
        "(請參考下方output sample)\n",
        "\n",
        "\n",
        "Sample Input 1\n",
        "\n",
        "20\n",
        "Sample Output 1\n",
        "\n",
        "84\n",
        "Sample Input 2\n",
        "\n",
        "50\n",
        "Sample Output 2\n",
        "\n",
        "541\n",
        "Sample Input 3\n",
        "\n",
        "100\n",
        "Sample Output 3\n",
        "\n",
        "2208\n",
        "Sample Input 4\n",
        "\n",
        "9999\n",
        "Sample Output 4\n",
        "\n",
        "21426429"
      ],
      "metadata": {
        "id": "kTVTNn4cjCZ9"
      }
    },
    {
      "cell_type": "code",
      "source": [
        "n = int(input())\n",
        "total = 0\n",
        "\n",
        "for i in range(1, n + 1):\n",
        "    if i % 3 == 0 or i % 7 == 0:\n",
        "        total += i\n",
        "\n",
        "print(total)\n"
      ],
      "metadata": {
        "colab": {
          "base_uri": "https://localhost:8080/"
        },
        "id": "WorsExMyjJw8",
        "outputId": "7361daab-3bee-4484-fe88-ce928763a6a5"
      },
      "execution_count": 38,
      "outputs": [
        {
          "output_type": "stream",
          "name": "stdout",
          "text": [
            "20\n",
            "84\n"
          ]
        }
      ]
    },
    {
      "cell_type": "markdown",
      "source": [
        "用＊印出靠左下的直角三角形\n",
        "Description\n",
        "\n",
        "請設計一個程式，讓使用者輸入整數 n 後，會用＊印出一個靠左下的直角三角形。\n",
        "\n",
        "\n",
        "\n",
        "假設使用者input： 4\n",
        "\n",
        "程式要output：擷取.PNG\n",
        "\n",
        "output的＊與＊之間不需要空格！\n",
        "\n",
        "\n",
        "Input\n",
        "(請參考下方input sample)\n",
        "\n",
        "\n",
        "Output\n",
        "(請參考下方output sample)\n",
        "\n",
        "\n",
        "Sample Input 1\n",
        "\n",
        "5\n",
        "Sample Output 1\n",
        "\n",
        "*\n",
        "**\n",
        "***\n",
        "****\n",
        "*****\n",
        "Sample Input 2\n",
        "\n",
        "8\n",
        "Sample Output 2\n",
        "\n",
        "*\n",
        "**\n",
        "***\n",
        "****\n",
        "*****\n",
        "******\n",
        "*******\n",
        "********\n",
        "Sample Input 3\n",
        "\n",
        "3\n",
        "Sample Output 3\n",
        "\n",
        "*\n",
        "**\n",
        "***\n",
        "Sample Input 4\n",
        "\n",
        "10\n",
        "Sample Output 4\n",
        "\n",
        "*\n",
        "**\n",
        "***\n",
        "****\n",
        "*****\n",
        "******\n",
        "*******\n",
        "********\n",
        "*********\n",
        "**********"
      ],
      "metadata": {
        "id": "R5tfw4TRjes9"
      }
    },
    {
      "cell_type": "code",
      "source": [
        "n = int(input())\n",
        "\n",
        "for i in range(1, n + 1):\n",
        "    for j in range(i):\n",
        "        print(\"*\", end=\"\")\n",
        "    print()\n",
        "\n",
        ""
      ],
      "metadata": {
        "colab": {
          "base_uri": "https://localhost:8080/"
        },
        "id": "FLMxIWAug7Zf",
        "outputId": "577ce1c1-cf92-4db8-81bf-3f60612afa48"
      },
      "execution_count": 39,
      "outputs": [
        {
          "output_type": "stream",
          "name": "stdout",
          "text": [
            "4\n",
            "*\n",
            "**\n",
            "***\n",
            "****\n"
          ]
        }
      ]
    },
    {
      "cell_type": "markdown",
      "source": [
        "用連續數字印出靠左下的直角三角形\n",
        "Description\n",
        "\n",
        "請設計一個程式，讓使用者輸入整數 n 後，會用連續數字印出一個靠左下的直角三角形。\n",
        "\n",
        "假設使用者input： 4\n",
        "\n",
        "程式要output：擷取.PNG\n",
        "\n",
        "output的數字與數字之間不需要空格！\n",
        "\n",
        "\n",
        "Input\n",
        "(請參考下方input sample)\n",
        "\n",
        "\n",
        "Output\n",
        "(請參考下方output sample)\n",
        "\n",
        "\n",
        "Sample Input 1\n",
        "\n",
        "3\n",
        "Sample Output 1\n",
        "\n",
        "1\n",
        "12\n",
        "123\n",
        "Sample Input 2\n",
        "\n",
        "5\n",
        "Sample Output 2\n",
        "\n",
        "1\n",
        "12\n",
        "123\n",
        "1234\n",
        "12345\n",
        "Sample Input 3\n",
        "\n",
        "7\n",
        "Sample Output 3\n",
        "\n",
        "1\n",
        "12\n",
        "123\n",
        "1234\n",
        "12345\n",
        "123456\n",
        "1234567\n",
        "Sample Input 4\n",
        "\n",
        "13\n",
        "Sample Output 4\n",
        "\n",
        "1\n",
        "12\n",
        "123\n",
        "1234\n",
        "12345\n",
        "123456\n",
        "1234567\n",
        "12345678\n",
        "123456789\n",
        "12345678910\n",
        "1234567891011\n",
        "123456789101112\n",
        "12345678910111213"
      ],
      "metadata": {
        "id": "aXuhmZ19jnBW"
      }
    },
    {
      "cell_type": "code",
      "source": [
        "n = int(input())\n",
        "\n",
        "for i in range(1, n + 1):\n",
        "    for j in range(1, i + 1):\n",
        "        print(j, end=\"\")\n",
        "    print()\n"
      ],
      "metadata": {
        "colab": {
          "base_uri": "https://localhost:8080/"
        },
        "id": "DoW6FiHjjxxm",
        "outputId": "457b8fed-035b-4b74-e2a0-614d3a1746bf"
      },
      "execution_count": 40,
      "outputs": [
        {
          "output_type": "stream",
          "name": "stdout",
          "text": [
            "13\n",
            "1\n",
            "12\n",
            "123\n",
            "1234\n",
            "12345\n",
            "123456\n",
            "1234567\n",
            "12345678\n",
            "123456789\n",
            "12345678910\n",
            "1234567891011\n",
            "123456789101112\n",
            "12345678910111213\n"
          ]
        }
      ]
    },
    {
      "cell_type": "markdown",
      "source": [
        "求兩數的最大公因數\n",
        "Description\n",
        "\n",
        "請設計一個程式，讓使用者在同一行輸入2個整數後，計算並輸出兩數的最大公因數。\n",
        "\n",
        "\n",
        "\n",
        "假設使用者input： 10 15\n",
        "\n",
        "程式要output：5\n",
        "\n",
        "\n",
        "Input\n",
        "(請參考下方input sample)\n",
        "\n",
        "\n",
        "Output\n",
        "(請參考下方output sample)\n",
        "\n",
        "\n",
        "Sample Input 1\n",
        "\n",
        "60 20\n",
        "Sample Output 1\n",
        "\n",
        "20\n",
        "Sample Input 2\n",
        "\n",
        "80 81\n",
        "Sample Output 2\n",
        "\n",
        "1\n",
        "Sample Input 3\n",
        "\n",
        "90 99\n",
        "Sample Output 3\n",
        "\n",
        "9\n",
        "Sample Input 4\n",
        "\n",
        "120 150\n",
        "Sample Output 4\n",
        "\n",
        "30"
      ],
      "metadata": {
        "id": "n5nrGx2qj3Hr"
      }
    },
    {
      "cell_type": "code",
      "source": [
        "def gcd(a, b):\n",
        "    while b != 0:\n",
        "        a, b = b, a % b\n",
        "    return a\n",
        "\n",
        "# 讀取兩個整數\n",
        "a, b = map(int, input().split())\n",
        "\n",
        "# 計算最大公因數並輸出結果\n",
        "print(gcd(a, b))\n"
      ],
      "metadata": {
        "colab": {
          "base_uri": "https://localhost:8080/"
        },
        "id": "V6FO7hgIj8pT",
        "outputId": "91365c6e-29f9-4407-cdfc-0760b0fb4d6e"
      },
      "execution_count": 41,
      "outputs": [
        {
          "output_type": "stream",
          "name": "stdout",
          "text": [
            "80 81\n",
            "1\n"
          ]
        }
      ]
    },
    {
      "cell_type": "markdown",
      "source": [
        "求兩數的最小公倍數\n",
        "Description\n",
        "\n",
        "請設計一個程式，讓使用者在同一行輸入2個整數後，計算並輸出兩數的最小公倍數。\n",
        "\n",
        "\n",
        "\n",
        "假設使用者input： 10 15\n",
        "\n",
        "程式要output：30\n",
        "\n",
        "\n",
        "Input\n",
        "(請參考下方input sample)\n",
        "\n",
        "\n",
        "Output\n",
        "(請參考下方output sample)\n",
        "\n",
        "\n",
        "Sample Input 1\n",
        "\n",
        "20 50\n",
        "Sample Output 1\n",
        "\n",
        "100\n",
        "Sample Input 2\n",
        "\n",
        "11 13\n",
        "Sample Output 2\n",
        "\n",
        "143\n",
        "Sample Input 3\n",
        "\n",
        "98 99\n",
        "Sample Output 3\n",
        "\n",
        "9702\n",
        "Sample Input 4\n",
        "\n",
        "113 200\n",
        "Sample Output 4\n",
        "\n",
        "22600"
      ],
      "metadata": {
        "id": "lUgx-Le9kDb8"
      }
    },
    {
      "cell_type": "code",
      "source": [
        "def gcd(a, b):\n",
        "    while b != 0:\n",
        "        a, b = b, a % b\n",
        "    return a\n",
        "\n",
        "def lcm(a, b):\n",
        "    return (a * b) // gcd(a, b)\n",
        "\n",
        "# 讀取兩個整數\n",
        "a, b = map(int, input().split())\n",
        "\n",
        "# 計算最小公倍數並輸出結果\n",
        "print(lcm(a, b))\n"
      ],
      "metadata": {
        "colab": {
          "base_uri": "https://localhost:8080/"
        },
        "id": "KraJhB_qkIjL",
        "outputId": "419237dc-5f3f-4330-99e7-8a9fa8913ed5"
      },
      "execution_count": 42,
      "outputs": [
        {
          "output_type": "stream",
          "name": "stdout",
          "text": [
            "113 200\n",
            "22600\n"
          ]
        }
      ]
    },
    {
      "cell_type": "markdown",
      "source": [
        "判斷是否構成三角形\n",
        "Description\n",
        "\n",
        "請設計一個程式，讓使用者在同一行input 3個數(整數int型態)，並判斷是否構成三角形。\n",
        "\n",
        "\n",
        "\n",
        "構成三角形要素：任兩邊加起來要大於第三邊。\n",
        "\n",
        "\n",
        "\n",
        "若構成，請輸出Valid\n",
        "\n",
        "若不構成，請輸出InValid\n",
        "\n",
        "\n",
        "Input\n",
        "(請參考下方input sample)\n",
        "\n",
        "\n",
        "Output\n",
        "(請參考下方output sample)\n",
        "\n",
        "\n",
        "Sample Input 1\n",
        "\n",
        "2 5 6\n",
        "Sample Output 1\n",
        "\n",
        "Valid\n",
        "Sample Input 2\n",
        "\n",
        "2 5 7\n",
        "Sample Output 2\n",
        "\n",
        "Invalid\n",
        "Sample Input 3\n",
        "\n",
        "28 29 31\n",
        "Sample Output 3\n",
        "\n",
        "Valid\n",
        "Sample Input 4\n",
        "\n",
        "2 4 7\n",
        "Sample Output 4\n",
        "\n",
        "Invalid"
      ],
      "metadata": {
        "id": "aoifHqILkRu9"
      }
    },
    {
      "cell_type": "code",
      "source": [
        "def is_triangle(a, b, c):\n",
        "    if a + b > c and a + c > b and b + c > a:\n",
        "        return \"Valid\"\n",
        "    else:\n",
        "        return \"Invalid\"\n",
        "\n",
        "# 讀取三個整數\n",
        "a, b, c = map(int, input().split())\n",
        "\n",
        "# 判斷是否構成三角形並輸出結果\n",
        "print(is_triangle(a, b, c))\n"
      ],
      "metadata": {
        "colab": {
          "base_uri": "https://localhost:8080/"
        },
        "id": "WaDmWFyokXBs",
        "outputId": "141608c5-8135-4bc6-e494-c5bcfcec29b6"
      },
      "execution_count": 43,
      "outputs": [
        {
          "output_type": "stream",
          "name": "stdout",
          "text": [
            "28 29 31\n",
            "Valid\n"
          ]
        }
      ]
    },
    {
      "cell_type": "markdown",
      "source": [
        "大小寫變變樂"
      ],
      "metadata": {
        "id": "f0wCFhuqlXH1"
      }
    },
    {
      "cell_type": "code",
      "source": [
        "def change_case(s):\n",
        "    result = ''\n",
        "    for i in range(len(s)):\n",
        "        if i % 2 == 0:  # 如果索引是偶數，則轉換為大寫\n",
        "            result += s[i].upper()\n",
        "        else:  # 如果索引是奇數，則轉換為小寫\n",
        "            result += s[i].lower()\n",
        "    return result\n",
        "\n",
        "# 讀取使用者輸入的字串\n",
        "s = input()\n",
        "\n",
        "# 呼叫函式進行大小寫轉換並輸出結果\n",
        "print(change_case(s))\n"
      ],
      "metadata": {
        "colab": {
          "base_uri": "https://localhost:8080/"
        },
        "id": "819N6OaejmSs",
        "outputId": "9f5d5a84-4eb4-4226-e6d0-f9d388194ebc"
      },
      "execution_count": 44,
      "outputs": [
        {
          "output_type": "stream",
          "name": "stdout",
          "text": [
            "panda\n",
            "PaNdA\n"
          ]
        }
      ]
    },
    {
      "cell_type": "markdown",
      "source": [
        "將字串(list)每一項倒序印出來\n",
        "Description\n",
        "\n",
        "請設計一個程式，讓使用者在同一行input 資料至字串(list)裡面，再將字串(list)每一項倒序印出來，並output在同一行。\n",
        "\n",
        "\n",
        "Input\n",
        "(請參考下方input sample)\n",
        "\n",
        "\n",
        "Output\n",
        "(請參考下方output sample)\n",
        "\n",
        "\n",
        "Sample Input 1\n",
        "\n",
        "apple banana cake\n",
        "Sample Output 1\n",
        "\n",
        "cake banana apple\n",
        "Sample Input 2\n",
        "\n",
        "30 60 90 120 150\n",
        "Sample Output 2\n",
        "\n",
        "150 120 90 60 30\n",
        "Sample Input 3\n",
        "\n",
        "panda is cute and lovely\n",
        "Sample Output 3\n",
        "\n",
        "lovely and cute is panda\n",
        "Sample Input 4\n",
        "\n",
        "one people emo , two people wemo\n",
        "Sample Output 4\n",
        "\n",
        "wemo people two , emo people one"
      ],
      "metadata": {
        "id": "Kq1O-NQRllbt"
      }
    },
    {
      "cell_type": "code",
      "source": [
        "# 讀取使用者輸入的字串\n",
        "s = input()\n",
        "\n",
        "# 將字串分割成列表\n",
        "words = s.split()\n",
        "\n",
        "# 將列表中的每個字串倒序排列\n",
        "reversed_words = list(reversed(words))\n",
        "\n",
        "# 將排列後的列表組合成一個新的字串\n",
        "result = ' '.join(reversed_words)\n",
        "\n",
        "# 輸出結果\n",
        "print(result)\n"
      ],
      "metadata": {
        "colab": {
          "base_uri": "https://localhost:8080/"
        },
        "id": "ks9ur-BnlwXH",
        "outputId": "0720030d-8f34-4a04-80ef-8b8352034b13"
      },
      "execution_count": 45,
      "outputs": [
        {
          "output_type": "stream",
          "name": "stdout",
          "text": [
            "apple banana cake\n",
            "cake banana apple\n"
          ]
        }
      ]
    },
    {
      "cell_type": "markdown",
      "source": [
        "時間秒數轉換\n",
        "Description\n",
        "\n",
        "我們知道一天有24小時(共86400秒)。\n",
        "\n",
        "請設計一個程式，讓使用者input 時間的秒數後，轉換成格式為24小時制的『時：分：秒』。\n",
        "\n",
        "請注意：時、分、秒皆需補零(皆2位數)\n",
        "\n",
        "\n",
        "\n",
        "範例input： 234\n",
        "\n",
        "範例output：00:03:54\n",
        "\n",
        "（也就是234秒，換算後是3分鐘54秒，故需輸出00:03:54）\n",
        "\n",
        "\n",
        "Input\n",
        "(請參考下方input sample)\n",
        "\n",
        "\n",
        "Output\n",
        "(請參考下方output sample)\n",
        "\n",
        "\n",
        "Sample Input 1\n",
        "\n",
        "3845\n",
        "Sample Output 1\n",
        "\n",
        "01:04:05\n",
        "Sample Input 2\n",
        "\n",
        "5438\n",
        "Sample Output 2\n",
        "\n",
        "01:30:38\n",
        "Sample Input 3\n",
        "\n",
        "52087\n",
        "Sample Output 3\n",
        "\n",
        "14:28:07\n",
        "Sample Input 4\n",
        "\n",
        "59438\n",
        "Sample Output 4\n",
        "\n",
        "16:30:38\n",
        "Sample Input 5\n",
        "\n",
        "86399\n",
        "Sample Output 5\n",
        "\n",
        "23:59:59"
      ],
      "metadata": {
        "id": "RKg3GYHWl7v7"
      }
    },
    {
      "cell_type": "code",
      "source": [
        "# 讀取使用者輸入的秒數\n",
        "seconds = int(input())\n",
        "\n",
        "# 計算時、分、秒\n",
        "hours = seconds // 3600\n",
        "minutes = (seconds % 3600) // 60\n",
        "remaining_seconds = seconds % 60\n",
        "\n",
        "# 格式化時間字串，補零至兩位數\n",
        "time_str = '{:02d}:{:02d}:{:02d}'.format(hours, minutes, remaining_seconds)\n",
        "\n",
        "# 輸出結果\n",
        "print(time_str)\n"
      ],
      "metadata": {
        "colab": {
          "base_uri": "https://localhost:8080/"
        },
        "id": "y0HRvIV7mB2c",
        "outputId": "5f75ba65-b1e6-4486-bfef-c1545950093c"
      },
      "execution_count": 46,
      "outputs": [
        {
          "output_type": "stream",
          "name": "stdout",
          "text": [
            "59438\n",
            "16:30:38\n"
          ]
        }
      ]
    },
    {
      "cell_type": "markdown",
      "source": [
        "判斷平年、閏年\n",
        "Description\n",
        "\n",
        "我們知道閏年的2月有 29 天，平年的2月則是 28 天。\n",
        "\n",
        "請設計一個程式，讓使用者input 西元年後，輸出該年是平年或閏年。\n",
        "\n",
        "\n",
        "\n",
        "判斷閏年的規則：\n",
        "\n",
        "1.除以 4 能整除，且除以 100 不能整除\n",
        "\n",
        "2. 如果剛好是 100 的倍數，且除以 400 能整除\n",
        "\n",
        "\n",
        "\n",
        "舉例來說 ：\n",
        "\n",
        "2000 年是 100 的倍數且除以 400 能整除，所以是 2000 年是閏年。\n",
        "\n",
        "2100 年雖然是 4 的倍數，但除以 100 能整除，所以 2100 年是平年。\n",
        "\n",
        "\n",
        "Input\n",
        "(請參考下方input sample)\n",
        "\n",
        "\n",
        "Output\n",
        "(請參考下方output sample)\n",
        "\n",
        "\n",
        "\n",
        "平年：common year\n",
        "\n",
        "閏年：leap year\n",
        "\n",
        "輸出格式為： 『年份 is common year』  或  『年份 is leap year』\n",
        "\n",
        "\n",
        "Sample Input 1\n",
        "\n",
        "2000\n",
        "Sample Output 1\n",
        "\n",
        "2000 is leap year\n",
        "Sample Input 2\n",
        "\n",
        "2020\n",
        "Sample Output 2\n",
        "\n",
        "2020 is leap year\n",
        "Sample Input 3\n",
        "\n",
        "2097\n",
        "Sample Output 3\n",
        "\n",
        "2100 is common year\n",
        "Sample Input 4\n",
        "\n",
        "2100\n",
        "Sample Output 4\n",
        "\n",
        "2100 is common year"
      ],
      "metadata": {
        "id": "tIqckZ0OmMfa"
      }
    },
    {
      "cell_type": "code",
      "source": [
        "# 讀取使用者輸入的年份\n",
        "year = int(input())\n",
        "\n",
        "# 判斷是否為閏年\n",
        "if (year % 4 == 0 and year % 100 != 0) or (year % 400 == 0):\n",
        "    print(year, 'is leap year')\n",
        "else:\n",
        "    print(year, 'is common year')\n"
      ],
      "metadata": {
        "colab": {
          "base_uri": "https://localhost:8080/"
        },
        "id": "bYldWn2pmREg",
        "outputId": "011d33e9-2717-405d-c06e-9482ee5e1f51"
      },
      "execution_count": 47,
      "outputs": [
        {
          "output_type": "stream",
          "name": "stdout",
          "text": [
            "2020\n",
            "2020 is leap year\n"
          ]
        }
      ]
    },
    {
      "cell_type": "markdown",
      "source": [
        "偶數加總\n",
        "Description\n",
        "\n",
        "讓使用者input一個數字後，會輸出15到該數之間(含該數)的所有偶數之總和。\n",
        "\n",
        "\n",
        "\n",
        "範例輸入：22\n",
        "\n",
        "範例輸出：76\n",
        "\n",
        "介於15至22之間的偶數有：16 18 20 22\n",
        "\n",
        "故16+18+20+22 = 76\n",
        "\n",
        "\n",
        "Input\n",
        "(請參考下方input sample)\n",
        "\n",
        "\n",
        "Output\n",
        "(請參考下方output sample)\n",
        "\n",
        "\n",
        "Sample Input 1\n",
        "\n",
        "20\n",
        "Sample Output 1\n",
        "\n",
        "54\n",
        "Sample Input 2\n",
        "\n",
        "30\n",
        "Sample Output 2\n",
        "\n",
        "184\n",
        "Sample Input 3\n",
        "\n",
        "45\n",
        "Sample Output 3\n",
        "\n",
        "450\n",
        "Sample Input 4\n",
        "\n",
        "99\n",
        "Sample Output 4\n",
        "\n",
        "2394"
      ],
      "metadata": {
        "id": "-OHedJMnmZv5"
      }
    },
    {
      "cell_type": "code",
      "source": [
        "num = int(input())\n",
        "\n",
        "total = 0\n",
        "for i in range(15, num + 1):\n",
        "    if i % 2 == 0:\n",
        "        total += i\n",
        "\n",
        "print(total)\n"
      ],
      "metadata": {
        "colab": {
          "base_uri": "https://localhost:8080/"
        },
        "id": "4sPOrcl7msxb",
        "outputId": "e929c386-5a4e-4bf3-face-1fdb4d4a764f"
      },
      "execution_count": 48,
      "outputs": [
        {
          "output_type": "stream",
          "name": "stdout",
          "text": [
            "20\n",
            "54\n"
          ]
        }
      ]
    },
    {
      "cell_type": "markdown",
      "source": [
        "Print字串\n",
        "Description\n",
        "\n",
        "請嘗試print出使用者input的字串，並依照output要求而輸出。\n",
        "\n",
        "\n",
        "\n",
        "注意：系統會自動帶入底下input值至你的程式碼做驗證，故請勿使用暴力解法。\n",
        "\n",
        "\n",
        "Input\n",
        "(參考下方input sample)\n",
        "\n",
        "\n",
        "Output\n",
        "(參考下方output sample)\n",
        "\n",
        "輸出結果為Ans + 空格 + 使用者input的字串\n",
        "\n",
        "\n",
        "\n",
        "範例input： apple\n",
        "\n",
        "範例output： Ans apple\n",
        "\n",
        "\n",
        "\n",
        "範例input： cake\n",
        "\n",
        "範例output： Ans cake\n",
        "\n",
        "\n",
        "Sample Input 1\n",
        "\n",
        "Hello World\n",
        "Sample Output 1\n",
        "\n",
        "Ans Hello World\n",
        "Sample Input 2\n",
        "\n",
        "I like Python\n",
        "Sample Output 2\n",
        "\n",
        "Ans I like Python\n",
        "Sample Input 3\n",
        "\n",
        "Panda is cute\n",
        "Sample Output 3\n",
        "\n",
        "Ans Panda is cute\n",
        "Sample Input 4\n",
        "\n",
        "9487\n",
        "Sample Output 4\n",
        "\n",
        "Ans 9487\n",
        "Hint\n",
        "\n",
        "可用字串相加的方式。"
      ],
      "metadata": {
        "id": "OnQUe6fem6Q3"
      }
    },
    {
      "cell_type": "code",
      "source": [
        "user_input = input()\n",
        "print(\"Ans\", user_input)\n"
      ],
      "metadata": {
        "colab": {
          "base_uri": "https://localhost:8080/"
        },
        "id": "oQAmtxaHm9v8",
        "outputId": "bc4c0b76-e71a-4246-c71e-7c35db4b1dd6"
      },
      "execution_count": 49,
      "outputs": [
        {
          "output_type": "stream",
          "name": "stdout",
          "text": [
            "9487\n",
            "Ans 9487\n"
          ]
        }
      ]
    },
    {
      "cell_type": "markdown",
      "source": [
        "利用for迴圈產生指定數列\n",
        "Description\n",
        "\n",
        "請設計一個程式，讓使用者在同一行同時輸入range三個參數 起始值、終止值、間隔值(整數型態)後，利用 for 迴圈來輸出對應的數列，產出來的數字應透過「,」進行分隔。\n",
        "\n",
        "\n",
        "Input\n",
        "讓使用者在同一行依序輸入range三個參數起始值、終止值、間隔值(整數型態)\n",
        "\n",
        "\n",
        "Output\n",
        "(請參考sample output)\n",
        "\n",
        "產出來數列後，每個數字應透過「,」進行分隔。\n",
        "\n",
        "\n",
        "Sample Input 1\n",
        "\n",
        "0 100 5\n",
        "Sample Output 1\n",
        "\n",
        "0,5,10,15,20,25,30,35,40,45,50,55,60,65,70,75,80,85,90,95,\n",
        "Sample Input 2\n",
        "\n",
        "1 200 4\n",
        "Sample Output 2\n",
        "\n",
        "1,5,9,13,17,21,25,29,33,37,41,45,49,53,57,61,65,69,73,77,81,85,89,93,97,101,105,109,113,117,121,125,129,133,137,141,145,149,153,157,161,165,169,173,177,181,185,189,193,197,\n",
        "Sample Input 3\n",
        "\n",
        "10 500 25\n",
        "Sample Output 3\n",
        "\n",
        "10,35,60,85,110,135,160,185,210,235,260,285,310,335,360,385,410,435,460,485,\n",
        "Sample Input 4\n",
        "\n",
        "15 19 1\n",
        "Sample Output 4\n",
        "\n",
        "15,16,17,18,\n",
        "Sample Input 5\n",
        "\n",
        "-10 -1 2\n",
        "Sample Output 5\n",
        "\n",
        "-10,-8,-6,-4,-2,"
      ],
      "metadata": {
        "id": "iLEtEe50nNly"
      }
    },
    {
      "cell_type": "code",
      "source": [
        "start, end, step = map(int, input().split())\n",
        "for i in range(start, end + 1, step):\n",
        "    print(i, end=\",\")\n"
      ],
      "metadata": {
        "colab": {
          "base_uri": "https://localhost:8080/"
        },
        "id": "PHTbezFvnVU7",
        "outputId": "67d53801-04de-4884-cb24-43632308420f"
      },
      "execution_count": 50,
      "outputs": [
        {
          "output_type": "stream",
          "name": "stdout",
          "text": [
            "-10 -1 2\n",
            "-10,-8,-6,-4,-2,"
          ]
        }
      ]
    },
    {
      "cell_type": "markdown",
      "source": [
        "學號總和\n",
        "Description\n",
        "\n",
        "讓使用者輸入學號，並輸出學號各碼的總和結果。\n",
        "\n",
        "\n",
        "\n",
        "注意：系統會自動帶入底下input值至你的程式碼做驗證，故請勿使用暴力解法。\n",
        "\n",
        "\n",
        "Input\n",
        "(參考下方input sample)\n",
        "\n",
        "系統預設帶入input值為學號(用空格分開每個數字)。\n",
        "\n",
        "\n",
        "Output\n",
        "(參考下方output sample)\n",
        "\n",
        "請將學號拆開的9碼，輸出其加總。\n",
        "\n",
        "\n",
        "Sample Input 1\n",
        "\n",
        "4 0 8 6 3 0 8 4 5\n",
        "Sample Output 1\n",
        "\n",
        "38\n",
        "Sample Input 2\n",
        "\n",
        "6 1 1 6 3 0 3 9 2\n",
        "Sample Output 2\n",
        "\n",
        "31\n",
        "Sample Input 3\n",
        "\n",
        "6 1 1 6 3 0 4 0 0\n",
        "Sample Output 3\n",
        "\n",
        "21\n",
        "Hint\n",
        "\n",
        "?  =map(int,input().split())\n",
        "\n",
        "總共定義9個變數(因為學號有9碼)"
      ],
      "metadata": {
        "id": "aZDPxNGRnkIB"
      }
    },
    {
      "cell_type": "code",
      "source": [
        "digits = map(int, input().split())\n",
        "total = sum(digits)\n",
        "print(total)\n"
      ],
      "metadata": {
        "colab": {
          "base_uri": "https://localhost:8080/",
          "height": 199
        },
        "id": "TfdjYpzmnk1M",
        "outputId": "340b1e6f-7182-4ef1-9b1f-7666868fdc8d"
      },
      "execution_count": 53,
      "outputs": [
        {
          "name": "stdout",
          "output_type": "stream",
          "text": [
            "4 0 8 6 3 0 8 4 5\n"
          ]
        },
        {
          "output_type": "error",
          "ename": "TypeError",
          "evalue": "'int' object is not callable",
          "traceback": [
            "\u001b[0;31m---------------------------------------------------------------------------\u001b[0m",
            "\u001b[0;31mTypeError\u001b[0m                                 Traceback (most recent call last)",
            "\u001b[0;32m<ipython-input-53-4f4e8a8ddf20>\u001b[0m in \u001b[0;36m<cell line: 2>\u001b[0;34m()\u001b[0m\n\u001b[1;32m      1\u001b[0m \u001b[0mdigits\u001b[0m \u001b[0;34m=\u001b[0m \u001b[0mmap\u001b[0m\u001b[0;34m(\u001b[0m\u001b[0mint\u001b[0m\u001b[0;34m,\u001b[0m \u001b[0minput\u001b[0m\u001b[0;34m(\u001b[0m\u001b[0;34m)\u001b[0m\u001b[0;34m.\u001b[0m\u001b[0msplit\u001b[0m\u001b[0;34m(\u001b[0m\u001b[0;34m)\u001b[0m\u001b[0;34m)\u001b[0m\u001b[0;34m\u001b[0m\u001b[0;34m\u001b[0m\u001b[0m\n\u001b[0;32m----> 2\u001b[0;31m \u001b[0mtotal\u001b[0m \u001b[0;34m=\u001b[0m \u001b[0msum\u001b[0m\u001b[0;34m(\u001b[0m\u001b[0mdigits\u001b[0m\u001b[0;34m)\u001b[0m\u001b[0;34m\u001b[0m\u001b[0;34m\u001b[0m\u001b[0m\n\u001b[0m\u001b[1;32m      3\u001b[0m \u001b[0mprint\u001b[0m\u001b[0;34m(\u001b[0m\u001b[0mtotal\u001b[0m\u001b[0;34m)\u001b[0m\u001b[0;34m\u001b[0m\u001b[0;34m\u001b[0m\u001b[0m\n",
            "\u001b[0;31mTypeError\u001b[0m: 'int' object is not callable"
          ]
        }
      ]
    },
    {
      "cell_type": "markdown",
      "source": [
        "停車費計算\n",
        "Description\n",
        "\n",
        "請設計一個程式，讓使用者輸入停車的分鐘數(整數int型態)，來計算該使用者需要付的停車費用。\n",
        "\n",
        "\n",
        "\n",
        "★停車場費用計算規則：\n",
        "\n",
        "停車滿一個小時$40元，如果未滿一個小時則收費20元。\n",
        "\n",
        "當日停車費最高收費為300元。\n",
        "\n",
        "\n",
        "\n",
        "範例：\n",
        "\n",
        "30分鐘 --> 20元\n",
        "\n",
        "61分鐘 --> 60元 (40+20)\n",
        "\n",
        "121分鐘 --> 100元 (40+40+20)\n",
        "\n",
        "上限為300元，超過300元則視為300元。\n",
        "\n",
        "\n",
        "\n",
        "\n",
        "Input\n",
        "使用者輸入分鐘數(整數型態)\n",
        "\n",
        "\n",
        "Output\n",
        "輸出格式\n",
        "\n",
        "park time:停車時間(小時):停車時間(分鐘)\n",
        "\n",
        "pay:停車費用money\n",
        "\n",
        "\n",
        "Sample Input 1\n",
        "\n",
        "669\n",
        "Sample Output 1\n",
        "\n",
        "park time:11h:9m\n",
        "pay:300 money\n",
        "Sample Input 2\n",
        "\n",
        "569\n",
        "Sample Output 2\n",
        "\n",
        "park time:9h:29m\n",
        "pay:300 money\n",
        "Sample Input 3\n",
        "\n",
        "469\n",
        "Sample Output 3\n",
        "\n",
        "park time:7h:49m\n",
        "pay:300 money\n",
        "Sample Input 4\n",
        "\n",
        "369\n",
        "Sample Output 4\n",
        "\n",
        "park time:6h:9m\n",
        "pay:260 money\n",
        "Sample Input 5\n",
        "\n",
        "269\n",
        "Sample Output 5\n",
        "\n",
        "park time:4h:29m\n",
        "pay:180 money\n",
        "Sample Input 6\n",
        "\n",
        "69\n",
        "Sample Output 6\n",
        "\n",
        "park time:1h:9m\n",
        "pay:60 money"
      ],
      "metadata": {
        "id": "pth2BUI8ocvD"
      }
    },
    {
      "cell_type": "code",
      "source": [
        "# 讀取停車時間（分鐘）\n",
        "parking_time = int(input())\n",
        "\n",
        "# 計算小時和分鐘\n",
        "hours = parking_time // 60\n",
        "minutes = parking_time % 60\n",
        "\n",
        "# 計算停車費用\n",
        "if parking_time <= 60:\n",
        "    fee = 20\n",
        "elif parking_time <= 300:\n",
        "    fee = 20 + (hours - 1) * 40\n",
        "    if minutes > 0:\n",
        "        fee += 40\n",
        "else:\n",
        "    fee = 300\n",
        "\n",
        "# 輸出結果\n",
        "print(\"park time:{}h:{}m\".format(hours, minutes))\n",
        "print(\"pay:{} money\".format(fee))\n"
      ],
      "metadata": {
        "colab": {
          "base_uri": "https://localhost:8080/"
        },
        "id": "tHie0opXoxRn",
        "outputId": "81699c95-e2e6-4ebf-809b-8485eac8b5ff"
      },
      "execution_count": 57,
      "outputs": [
        {
          "output_type": "stream",
          "name": "stdout",
          "text": [
            "269\n",
            "park time:4h:29m\n",
            "pay:180 money\n"
          ]
        }
      ]
    },
    {
      "cell_type": "code",
      "source": [],
      "metadata": {
        "id": "7t6ieRb9n570"
      },
      "execution_count": null,
      "outputs": []
    },
    {
      "cell_type": "markdown",
      "source": [
        "將學號總和開根號後，再判斷奇偶數\n",
        "Description\n",
        "\n",
        "請設計一個程式，讓使用者在同一行依序輸入學號 9 碼(整數型態)後，並分別輸出總和、開根號結果、開根號強制轉型為整數int型態、強制轉型後的結果為奇數或偶數。\n",
        "\n",
        "\n",
        "\n",
        "變數名稱命名參考：\n",
        "\n",
        "總和 sum\n",
        "\n",
        "開根號結果 squ\n",
        "\n",
        "開根號強制轉型為整數型態 squi\n",
        "\n",
        "\n",
        "\n",
        "注意：系統會自動帶入底下input值至你的程式碼做驗證，故請勿使用暴力解法。\n",
        "\n",
        "\n",
        "Input\n",
        "(參考下方input sample)\n",
        "\n",
        "系統預設帶入input值為學號(用空格分開每個數字)。\n",
        "\n",
        "\n",
        "Output\n",
        "(參考下方output sample)\n",
        "\n",
        "分四行分別輸出：學號的總和、開根號結果、開根號強制轉型為整數int型態、強制轉型後的結果為奇數或偶數。\n",
        "\n",
        "\n",
        "Sample Input 1\n",
        "\n",
        "6 1 2 6 3 0 0 2 9\n",
        "Sample Output 1\n",
        "\n",
        "sum:29\n",
        "squ:5.385164807134504\n",
        "squi:5\n",
        "squi is odd\n",
        "Sample Input 2\n",
        "\n",
        "6 1 1 6 3 0 3 9 2\n",
        "Sample Output 2\n",
        "\n",
        "sum:31\n",
        "squ:5.5677643628300215\n",
        "squi:5\n",
        "squi is odd\n",
        "Sample Input 3\n",
        "\n",
        "6 1 1 6 3 0 4 0 0\n",
        "Sample Output 3\n",
        "\n",
        "sum:21\n",
        "squ:4.58257569495584\n",
        "squi:4\n",
        "squi is even"
      ],
      "metadata": {
        "id": "tvD0fEAmn6VS"
      }
    },
    {
      "cell_type": "code",
      "source": [
        "from math import sqrt\n",
        "\n",
        "# 讀取學號\n",
        "digits = list(map(int, input().split()))\n",
        "\n",
        "# 計算總和\n",
        "total = sum(digits)\n",
        "print(\"sum:{}\".format(total))\n",
        "\n",
        "# 計算開根號\n",
        "squ = sqrt(total)\n",
        "print(\"squ:{}\".format(squ))\n",
        "\n",
        "# 強制轉型為整數\n",
        "squi = int(squ)\n",
        "print(\"squi:{}\".format(squi))\n",
        "\n",
        "# 判斷奇偶數\n",
        "if squi % 2 == 0:\n",
        "    print(\"squi is even\")\n",
        "else:\n",
        "    print(\"squi is odd\")\n"
      ],
      "metadata": {
        "colab": {
          "base_uri": "https://localhost:8080/",
          "height": 234
        },
        "id": "9BgVvGvMjg3t",
        "outputId": "34cb8b35-36c7-4a7c-e25d-1b82423e3442"
      },
      "execution_count": 56,
      "outputs": [
        {
          "name": "stdout",
          "output_type": "stream",
          "text": [
            "611630400\n"
          ]
        },
        {
          "output_type": "error",
          "ename": "TypeError",
          "evalue": "'int' object is not callable",
          "traceback": [
            "\u001b[0;31m---------------------------------------------------------------------------\u001b[0m",
            "\u001b[0;31mTypeError\u001b[0m                                 Traceback (most recent call last)",
            "\u001b[0;32m<ipython-input-56-03ebfe9785d7>\u001b[0m in \u001b[0;36m<cell line: 7>\u001b[0;34m()\u001b[0m\n\u001b[1;32m      5\u001b[0m \u001b[0;34m\u001b[0m\u001b[0m\n\u001b[1;32m      6\u001b[0m \u001b[0;31m# 計算總和\u001b[0m\u001b[0;34m\u001b[0m\u001b[0;34m\u001b[0m\u001b[0m\n\u001b[0;32m----> 7\u001b[0;31m \u001b[0mtotal\u001b[0m \u001b[0;34m=\u001b[0m \u001b[0msum\u001b[0m\u001b[0;34m(\u001b[0m\u001b[0mdigits\u001b[0m\u001b[0;34m)\u001b[0m\u001b[0;34m\u001b[0m\u001b[0;34m\u001b[0m\u001b[0m\n\u001b[0m\u001b[1;32m      8\u001b[0m \u001b[0mprint\u001b[0m\u001b[0;34m(\u001b[0m\u001b[0;34m\"sum:{}\"\u001b[0m\u001b[0;34m.\u001b[0m\u001b[0mformat\u001b[0m\u001b[0;34m(\u001b[0m\u001b[0mtotal\u001b[0m\u001b[0;34m)\u001b[0m\u001b[0;34m)\u001b[0m\u001b[0;34m\u001b[0m\u001b[0;34m\u001b[0m\u001b[0m\n\u001b[1;32m      9\u001b[0m \u001b[0;34m\u001b[0m\u001b[0m\n",
            "\u001b[0;31mTypeError\u001b[0m: 'int' object is not callable"
          ]
        }
      ]
    },
    {
      "cell_type": "markdown",
      "source": [],
      "metadata": {
        "id": "meY-IdZGjBl0"
      }
    }
  ]
}