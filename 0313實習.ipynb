{
  "nbformat": 4,
  "nbformat_minor": 0,
  "metadata": {
    "colab": {
      "provenance": [],
      "authorship_tag": "ABX9TyOM3ENH6WRnP9jlbqPcp5md",
      "include_colab_link": true
    },
    "kernelspec": {
      "name": "python3",
      "display_name": "Python 3"
    },
    "language_info": {
      "name": "python"
    }
  },
  "cells": [
    {
      "cell_type": "markdown",
      "metadata": {
        "id": "view-in-github",
        "colab_type": "text"
      },
      "source": [
        "<a href=\"https://colab.research.google.com/github/jasonhouse1/TKU-AI-411631327/blob/main/0313%E5%AF%A6%E7%BF%92.ipynb\" target=\"_parent\"><img src=\"https://colab.research.google.com/assets/colab-badge.svg\" alt=\"Open In Colab\"/></a>"
      ]
    },
    {
      "cell_type": "code",
      "execution_count": 1,
      "metadata": {
        "colab": {
          "base_uri": "https://localhost:8080/"
        },
        "id": "dFVv6NnBqxJJ",
        "outputId": "175b9fd4-b5c6-481d-ecac-eab9020921fc"
      },
      "outputs": [
        {
          "output_type": "stream",
          "name": "stdout",
          "text": [
            "<class 'int'>\n"
          ]
        }
      ],
      "source": [
        "x=1\n",
        "print(type(x))"
      ]
    },
    {
      "cell_type": "code",
      "source": [
        "B=1.5\n",
        "print(type(B))"
      ],
      "metadata": {
        "colab": {
          "base_uri": "https://localhost:8080/"
        },
        "id": "stE-9AjUrTUX",
        "outputId": "be4f4591-36fe-48c8-ff66-cbd14fd777f7"
      },
      "execution_count": 2,
      "outputs": [
        {
          "output_type": "stream",
          "name": "stdout",
          "text": [
            "<class 'float'>\n"
          ]
        }
      ]
    },
    {
      "cell_type": "code",
      "source": [
        "s= \"Hello,Goodbye\"\n",
        "print(s)\n",
        "print(type(s))"
      ],
      "metadata": {
        "colab": {
          "base_uri": "https://localhost:8080/"
        },
        "id": "AFZSNz84sfVJ",
        "outputId": "cdfaf99d-70bb-437d-9015-9047bd91b929"
      },
      "execution_count": 3,
      "outputs": [
        {
          "output_type": "stream",
          "name": "stdout",
          "text": [
            "Hello,Goodbye\n",
            "<class 'str'>\n"
          ]
        }
      ]
    },
    {
      "cell_type": "code",
      "source": [
        "str1 = \"411631327\"\n",
        "str2 =\"邱振營\"\n",
        "print(str1 +str2)"
      ],
      "metadata": {
        "colab": {
          "base_uri": "https://localhost:8080/"
        },
        "id": "_DAy_TJFs_q9",
        "outputId": "5277552a-8de7-47c3-e278-cc46dfa21c5d"
      },
      "execution_count": 8,
      "outputs": [
        {
          "output_type": "stream",
          "name": "stdout",
          "text": [
            "411631327邱振營\n"
          ]
        }
      ]
    },
    {
      "cell_type": "code",
      "source": [
        "str3 =\"411631327\"\n",
        "print(str3*3)"
      ],
      "metadata": {
        "colab": {
          "base_uri": "https://localhost:8080/"
        },
        "id": "muMcI0Pctd1W",
        "outputId": "b334f1c6-17ba-4a4e-c5ac-c72735741740"
      },
      "execution_count": 10,
      "outputs": [
        {
          "output_type": "stream",
          "name": "stdout",
          "text": [
            "411631327411631327411631327\n"
          ]
        }
      ]
    },
    {
      "cell_type": "code",
      "source": [
        "str4 = \"411631327\"\n",
        "print(len(str4))"
      ],
      "metadata": {
        "colab": {
          "base_uri": "https://localhost:8080/"
        },
        "id": "VlLl6J__t6xO",
        "outputId": "8054eea8-8885-46e5-a55c-60af679e9903"
      },
      "execution_count": 11,
      "outputs": [
        {
          "output_type": "stream",
          "name": "stdout",
          "text": [
            "9\n"
          ]
        }
      ]
    },
    {
      "cell_type": "code",
      "source": [
        "str5=\"邱振營\"\n",
        "str5[0]"
      ],
      "metadata": {
        "colab": {
          "base_uri": "https://localhost:8080/",
          "height": 35
        },
        "id": "VN4wL08VuDkv",
        "outputId": "69cd922b-c79a-4aa0-b55a-f986f8e7f52c"
      },
      "execution_count": 12,
      "outputs": [
        {
          "output_type": "execute_result",
          "data": {
            "text/plain": [
              "'邱'"
            ],
            "application/vnd.google.colaboratory.intrinsic+json": {
              "type": "string"
            }
          },
          "metadata": {},
          "execution_count": 12
        }
      ]
    },
    {
      "cell_type": "code",
      "source": [
        "b=\"邱振營\""
      ],
      "metadata": {
        "id": "OXftbSzhudQE"
      },
      "execution_count": 13,
      "outputs": []
    },
    {
      "cell_type": "code",
      "source": [
        "print(b*20)\n"
      ],
      "metadata": {
        "colab": {
          "base_uri": "https://localhost:8080/"
        },
        "id": "gUV4l9_suo7t",
        "outputId": "a984b21f-dcc8-42a6-b8a4-ac70e568bd1f"
      },
      "execution_count": 15,
      "outputs": [
        {
          "output_type": "stream",
          "name": "stdout",
          "text": [
            "邱振營邱振營邱振營邱振營邱振營邱振營邱振營邱振營邱振營邱振營邱振營邱振營邱振營邱振營邱振營邱振營邱振營邱振營邱振營邱振營\n"
          ]
        }
      ]
    },
    {
      "cell_type": "code",
      "source": [
        "print(len(b))"
      ],
      "metadata": {
        "colab": {
          "base_uri": "https://localhost:8080/"
        },
        "id": "WXCQaREju2Cu",
        "outputId": "fa2af091-8929-4e60-c55f-652e33a0732c"
      },
      "execution_count": 16,
      "outputs": [
        {
          "output_type": "stream",
          "name": "stdout",
          "text": [
            "3\n"
          ]
        }
      ]
    }
  ]
}